{
  "cells": [
    {
      "metadata": {
        "_uuid": "ee2a842af8d3df5ab210aed3abd3dbb436d81ab9"
      },
      "cell_type": "markdown",
      "source": "# Two Sigma: Using News to Predict Stock Movements"
    },
    {
      "metadata": {
        "_uuid": "5637cee0bf40a727598df208c1f278dda6d521b4"
      },
      "cell_type": "markdown",
      "source": "# 前書き\n\nニュース分析の内容を使って株価のパフォーマンスを予測できますか？  \n今日のデータの偏在により、あらゆる規模の投資家がより良い投資判断を下すことができます。  \n課題は、どのデータが有用であるかを決定するためにデータを取り込み、解釈し、この情報の海で信号を見つけることです。  \n2つのシグマはこの挑戦に情熱を燃やしていて、カグルコミュニティと共有することに興奮しています。  \n\n科学的に牽引された投資マネージャーとして、Two Sigmaは17年以上にわたりテクノロジーとデータ科学を財務予測に適用してきました。  \nビッグデータ、AI、機械学習の先駆的な進歩により、投資業界は前進しました。  \n今、革新の継続的な追求にKagglersと熱心に取り組んでいます。  \n\n株価を予測するためにニュースデータを分析することによって、カグラーズはニュースの予測力を理解する研究の状態を前進させるユニークな機会を得ます。  \nこの力を活用すれば、財政的な成果を予測し、世界中に大きな経済的影響をもたらすのに役立ちます。  \n\nこのコンテストのデータは、次のソースから得られます。  \n\nIntrinioが提供する市場データ。  \nThomson Reutersが提供するニュースデータ。著作権©、トムソン・ロイター、2017年。All Rights Reserved。このサービスの使用、複製、または販売、またはここに含まれるデータは、競技規則に記載されている場合を除き、厳重に禁止されています。  \n  \nトムソン・ロイター・キネシス・ロゴおよびトムソン・ロイターは、トムソン・ロイターおよびその関連会社の米国およびその他の国における商標または登録商標です。"
    },
    {
      "metadata": {
        "_uuid": "cef972b4aed8e731242b55796395318b103978d4"
      },
      "cell_type": "markdown",
      "source": "## 問題定義\n今回はニュース記事から株価がどのように推移するかを予測する問題です。\n\n## カーネルの進め方\n1.データのインポート  \n2.データ探索  \n3.データの整頓  \n4.使用モデルの検証  \n5.学習データの作成  \n6.学習  \n7.予測  "
    },
    {
      "metadata": {
        "_uuid": "a575d726d07b4d85e683b72483258218fb4d4832"
      },
      "cell_type": "markdown",
      "source": "# ライブラリのインポート"
    },
    {
      "metadata": {
        "trusted": true,
        "_uuid": "cd18e7259aa26daa09bb1ca95627692f673e89ba"
      },
      "cell_type": "code",
      "source": "import pandas as pd\nimport numpy as np\nimport matplotlib.pyplot as plt\n%matplotlib inline",
      "execution_count": 1,
      "outputs": []
    },
    {
      "metadata": {
        "_uuid": "b62c73bd74c283d0dfe94d327dc490d72be00481"
      },
      "cell_type": "markdown",
      "source": "# データのインポート"
    },
    {
      "metadata": {
        "_uuid": "81f8a125ee5fd3d9692e94bb0956bfbdd0701279"
      },
      "cell_type": "markdown",
      "source": "この大会では、2つのデータソースに基づいて将来の株価収益率を予測します。\n\nイントリニオが提供する市場データ（2007年〜現在） - 開始価格、終値、取引量、計算されたリターンなどの金融市場情報を含んでいます。  \nニュースデータ（2007年〜現在）出典：Thomson Reuters  - 記事の詳細、感情、およびその他の解説など、資産に関するニュース記事/アラートに関する情報が含まれています。  \n各アセットはassetCodeによって識別されます（1つの企業に複数のアセットコードがあることに注意してください）。あなたがやりたいことに応じて、市場データをニュースデータに結合する方法として、assetCode、assetName、またはtimeを使用することができます。  \n\nこれはカーネルのみの時間ベースの競争であるため、標準的なKaggleの競技会と同じように、データファイルと直接対話することはありません。データをフェッチして予測を行う方法の詳細については、提出の手順を参照してください。指示に記載されているように、競合データ内の将来の合成データに遭遇します。これは、実際の将来のデータが導入する量、タイムライン、および計算上の負担をシミュレートするために含まれています。  \n\nまた、カスタムPythonモジュールを使用すると、参加する必要のあるステップを簡単に把握でき、いつどのアセットコードを予測するのか、エクステンションごとに市場取引日を示すことができます。ステージ1では、リーダーボードは2017-01-01から2018-07-31までの過去の期間のパフォーマンスを表示します。ステージ2では、Kaggleは約6ヶ月の将来のデータで参加者の選択したカーネルを再実行します。  \n\nデータは、Kernels環境でPandasデータフレームとして格納され、取り出されます。列型は、メモリ内のスペースを最小限に抑えるように最適化されています。\n\n市場データ  \nデータには、米国に上場されている計測器のサブセットが含まれています。含まれる商品のセットは毎日変更され、取引される金額と情報の可用性に基づいて決定されます。これは、このデータのサブセットに出入りする機器が存在する可能性があることを意味します。したがって、提供されるデータにはギャップが存在する可能性があり、必ずしもそのデータが存在しないことを意味するものではありません（選択基準のために行が含まれていない可能性が高い）。  \n\n市場データには、異なるタイムスパンで計算されたさまざまなリターンが含まれています。この市場データセットのすべてのリターンには、次のプロパティがあります。  \n\nリターンは常にオープン・ツー・オープン（1取引日のオープン時から別のオープン時）またはクローズ・クローズ（1取引日の終了時から別のオープン時まで）で計算されます。  \n返品は、データがベンチマークに対して調整されていないことを意味する生のものであるか、市場全体の移動が計上されていることを意味する市場残存（Mktres）のいずれかである。  \n戻り値は任意の間隔で計算できます。ここに1日と10日の視野があります。  \n後ろ向きの場合は '前'、後ろ向きの場合は '次'でタグ付けされます。  \n市場データ内には、次の列があります。  \n\ntime（datetime64 [ns、UTC]） - 現在の時刻（市場データでは、すべての行はUTCの22:00に取得されます）  \nassetCode（オブジェクト） - アセットの一意のID  \nassetName（category） -  assetCodesのグループに対応する名前。対応するassetCodeにニュースデータの行がない場合、これらは「不明」になる可能性があります。  \nuniverse（float64） - その日の楽器がスコアリングに含まれるかどうかを示すブール値。この値はトレーニングデータ期間外には提供されません。与えられた日付の取引ユニバースは取引のために利用可能な一連の商品です（スコアリング機能は取引世界にない商品を考慮しません）。取引の世界は毎日変わります。  \nvolume（float64） - 当日の株式取引量  \nclose（float64） -  1日の終値（分割または配当の調整なし）  \nopen（float64） - 当日のオープンプライス（分割または配当の調整なし）  \nreturnsClo​​sePrevRaw1（float64） - 上記の返品説明を参照してください  \nreturnsOpenPrevRaw1（float64） - 上記の返品説明を参照  \nreturnsClo​​sePrevMktres1（float64） - 上記の返品説明を参照してください  \nreturnsOpenPrevMktres1（float64） - 上記の返品の説明を参照してください  \nreturnsClo​​sePrevRaw10（float64） - 上記の返品説明を参照してください  \nreturnsOpenPrevRaw10（float64） - 上記の返品の説明をご覧ください  \nreturnsClo​​sePrevMktres10（float64） - 上記の返品説明を参照してください  \nreturnsOpenPrevMktres10（float64） - 上記の返品の説明を参照  \nreturnsOpenNextMktres10（float64） -  10日、市場残存リターン。これは競争スコアリングで使用されるターゲット変数です。市場データは、  returnsOpenNextMktres10が常にnullでないようにフィルタリングされています。  \n\nニュースデータ  \nニュースデータには、ニュース記事レベルと資産レベルの両方の情報が含まれています（つまり、表は意図的に正規化されていません）。  \n\ntime（datetime64 [ns、UTC]） - データがフィードで使用可能になったときを示すUTCタイムスタンプ（秒精度）  \nsourceTimestamp（datetime64 [ns、UTC]） - 作成されたこのニュース項目のUTCタイムスタンプ  \nfirstCreated（datetime64 [ns、UTC]） - アイテムの最初のバージョンのUTCタイムスタンプ  \nsourceId（オブジェクト） - 各ニュース項目のID  \nheadline（オブジェクト） - アイテムの見出し  \nurgency（int8） - ストーリーの種類を区別する（1：警告、3：記事）  \ntakeSequence（int16） - ニュース項目のテイクシーケンス番号.1から始まります。特定のストーリーの場合、アラートと記事は別々のシーケンスを持ちます。  \nprovider（カテゴリ） - ニュースアイテムを提供した組織の識別子（たとえば、ロイターニュースのRTRS、ビジネスワイヤのBSW）  \nsubjects（カテゴリ） - このニュースアイテムに関連するトピックコードおよび会社識別子。トピックコードは、ニュースアイテムの主題を記述します。これらは、資産クラス、地域、イベント、産業/セクター、および他のタイプをカバーすることができます。  \naudiences（カテゴリ） - ニュースアイテムが属するデスクトップニュースプロダクトを識別します。彼らは通常、特定の視聴者に合わせて調整されています。 （例えば、マネーインターナショナルニュースサービスの場合は「M」、フランスの一般ニュースサービスの場合は「FB」）  \n\nbodySize（int32） - 文字の現在のバージョンのストーリー本体のサイズ  \ncompanyCount（int8） - 件名フィールドのニュース項目に明示的にリストされている会社の数  \nheadlineTag（オブジェクト） - ニュース項目のThomson Reuters見出しタグ  \nmarketCommentary（bool） - アイテムが「After the Bell」サマリなどの一般的な市況を議論していることを示すブール値インジケータ  \nsentenceCount（int16） - ニュースアイテム内のセンテンスの総数。 firstMentionSentenceと組み合わせて、アイテムの最初の言及の相対的な位置を決定することができます。  \nwordCount（int32） - ニュース項目の語彙トークン（単語と句読点）の合計数  \nassetCodes（カテゴリ） - アイテムに記載されているアセットのリスト  \nassetName（カテゴリ） - 資産の名前  \nfirstMentionSentence（int16） - スコアリングされたアセットが記述されている見出しから始まる最初のセンテンス。  \n1：見出し  \n2：物語の最初の文章  \n3：体の2番目の文など  \n0：スコアリング対象のアセットがニュースアイテムの見出しまたは本文に見つかりませんでした。その結果、ニュースアイテムのテキスト（見出し+本文）全体が感情スコアを決定するために使用されます。  \nrelevance（float32） - ニュース項目の資産への関連性を示す10進数。アセットが見出しに記載されている場合、関連性は1に設定されます。項目がアラート（緊急度== 1）の場合、関連性はfirstMentionSentenceによって測定される必要があります。  \nsentimentClass（int8） - 資産に関するこのニュース項目の優勢なセンチメントクラスを示します。示されたクラスは、最も高い確率を有するクラスである。  \nセンチメントネガティブ（float32） - ニュース項目の感情が資産に対して負であった確率  \nsentimentNeutral（float32） - ニュース項目の感情が資産に対して中立だった可能性  \nsentimentPositive（float32） - ニュース項目の感情が資産に対してプラスであった可能性  \nsentimentWordCount（int32） - アセットに関連すると見なされるアイテムテキストのセクション内のレキシカルトークンの数。これは、wordCountと組み合わせて使用​​して、資産を議論するニュース項目の割合を決定することができます。  \nnoveltyCount12H（int16） - 特定の資産に関するニュース項目内のコンテンツの12時間の新規性。これは、資産を含む以前のニュースアイテムのキャッシュ上の資産固有のテキストと比較することによって計算されます。  \nnoveltyCount24H（int16） - 上記と同じですが、24時間  \nnoveltyCount3D（int16） - 上記と同じですが、3日間  \nnoveltyCount5D（int16） - 上記と同じですが、5日間  \nnoveltyCount7D（int16） - 上記と同じですが、7日間  \nvolumeCounts12H（int16） - 各資産の12時間分のニュース。以前のニュース項目のキャッシュが維持され、5つの過去期間のそれぞれの中で資産を言及するニュース項目の数が計算される。  \nvolumeCounts24H（int16） - 上記と同じですが、24時間  \nvolumeCounts3D（int16） - 上記と同じですが、3日間  \nvolumeCounts5D（int16） - 上記と同じですが、5日間  \nvolumeCounts7D（int16） - 上記と同じですが、7日間  \nIntrinioが提供する市場データ。  \n"
    },
    {
      "metadata": {
        "trusted": true,
        "_uuid": "c542756c8931d78f6eb0e1eed655948a7ebc204a"
      },
      "cell_type": "code",
      "source": "# news_train_df = pd.read_csv(\"input/news_sample.csv\")\n# data_train_df = pd.read_csv(\"input/marketdata_sample.csv\")",
      "execution_count": 2,
      "outputs": []
    },
    {
      "metadata": {
        "trusted": true,
        "_uuid": "5f742ea986208b755b62ddfe8e815ea2376ff09a"
      },
      "cell_type": "code",
      "source": "from kaggle.competitions import twosigmanews",
      "execution_count": 3,
      "outputs": []
    },
    {
      "metadata": {
        "trusted": true,
        "_uuid": "19568c32f60db6b4387d2cb9259749517cb3fcb6"
      },
      "cell_type": "code",
      "source": "env = twosigmanews.make_env()",
      "execution_count": 4,
      "outputs": [
        {
          "output_type": "stream",
          "text": "Loading the data... This could take a minute.\nDone!\n",
          "name": "stdout"
        }
      ]
    },
    {
      "metadata": {
        "trusted": true,
        "_uuid": "d6504b34a49d815b40ece3007b865b2315a15c05"
      },
      "cell_type": "code",
      "source": "(data_train_df, news_train_df) = env.get_training_data()",
      "execution_count": 5,
      "outputs": []
    },
    {
      "metadata": {
        "trusted": true,
        "_uuid": "f534d0c60aa023fd98f58426f5b8f934ee4f5150"
      },
      "cell_type": "code",
      "source": "pd.set_option('display.max_columns', 50)",
      "execution_count": 6,
      "outputs": []
    },
    {
      "metadata": {
        "trusted": true,
        "_uuid": "4540d1c93663d8d7bbd25e9cfe63d303ee2bc430"
      },
      "cell_type": "code",
      "source": "news_train_df.head()",
      "execution_count": 7,
      "outputs": [
        {
          "output_type": "execute_result",
          "execution_count": 7,
          "data": {
            "text/plain": "                       time           sourceTimestamp  \\\n0 2007-01-01 04:29:32+00:00 2007-01-01 04:29:32+00:00   \n1 2007-01-01 07:03:35+00:00 2007-01-01 07:03:34+00:00   \n2 2007-01-01 11:29:56+00:00 2007-01-01 11:29:56+00:00   \n3 2007-01-01 12:08:37+00:00 2007-01-01 12:08:37+00:00   \n4 2007-01-01 12:08:37+00:00 2007-01-01 12:08:37+00:00   \n\n               firstCreated          sourceId  \\\n0 2007-01-01 04:29:32+00:00  e58c6279551b85cf   \n1 2007-01-01 07:03:34+00:00  5a31c4327427f63f   \n2 2007-01-01 11:29:56+00:00  1cefd27a40fabdfe   \n3 2007-01-01 12:08:37+00:00  23768af19dc69992   \n4 2007-01-01 12:08:37+00:00  23768af19dc69992   \n\n                                            headline  urgency  takeSequence  \\\n0  China's Daqing pumps 43.41 mln tonnes of oil i...        3             1   \n1          FEATURE-In kidnapping, finesse works best        3             1   \n2         PRESS DIGEST - Wall Street Journal - Jan 1        3             1   \n3              PRESS DIGEST - New York Times - Jan 1        3             1   \n4              PRESS DIGEST - New York Times - Jan 1        3             1   \n\n  provider                                           subjects  \\\n0     RTRS  {'ENR', 'ASIA', 'CN', 'NGS', 'EMRG', 'RTRS', '...   \n1     RTRS  {'FEA', 'CA', 'LATAM', 'MX', 'INS', 'ASIA', 'I...   \n2     RTRS  {'RET', 'ENR', 'ID', 'BG', 'US', 'PRESS', 'IQ'...   \n3     RTRS  {'FUND', 'FIN', 'CA', 'SFWR', 'INS', 'PUB', 'B...   \n4     RTRS  {'FUND', 'FIN', 'CA', 'SFWR', 'INS', 'PUB', 'B...   \n\n                                           audiences  bodySize  companyCount  \\\n0                                  {'Z', 'O', 'OIL'}      1438             1   \n1  {'PGE', 'PCO', 'G', 'ESN', 'MD', 'PCU', 'DNP',...      4413             1   \n2  {'T', 'DNP', 'PSC', 'U', 'D', 'M', 'RNP', 'PTD...      2108             2   \n3  {'T', 'DNP', 'PSC', 'U', 'D', 'M', 'RNP', 'PTD...      1776             6   \n4  {'T', 'DNP', 'PSC', 'U', 'D', 'M', 'RNP', 'PTD...      1776             6   \n\n    headlineTag  marketCommentary  sentenceCount  wordCount  \\\n0                           False             11        275   \n1       FEATURE             False             55        907   \n2  PRESS DIGEST             False             15        388   \n3  PRESS DIGEST             False             14        325   \n4  PRESS DIGEST             False             14        325   \n\n                                  assetCodes                        assetName  \\\n0  {'0857.HK', '0857.F', '0857.DE', 'PTR.N'}                PetroChina Co Ltd   \n1                                  {'STA.N'}          Travelers Companies Inc   \n2                        {'WMT.DE', 'WMT.N'}              Wal-Mart Stores Inc   \n3          {'GOOG.O', 'GOOG.OQ', 'GOOGa.DE'}                       Google Inc   \n4                                 {'XMSR.O'}  XM Satellite Radio Holdings Inc   \n\n   firstMentionSentence  relevance  sentimentClass  sentimentNegative  \\\n0                     6   0.235702              -1           0.500739   \n1                     8   0.447214              -1           0.600082   \n2                    14   0.377964              -1           0.450049   \n3                    13   0.149071              -1           0.752917   \n4                    11   0.149071              -1           0.699274   \n\n   sentimentNeutral  sentimentPositive  sentimentWordCount  noveltyCount12H  \\\n0          0.419327           0.079934                  73                0   \n1          0.345853           0.054064                  62                1   \n2          0.295671           0.254280                  67                0   \n3          0.162715           0.084368                  83                0   \n4          0.209360           0.091366                 102                0   \n\n   noveltyCount24H  noveltyCount3D  noveltyCount5D  noveltyCount7D  \\\n0                0               0               0               0   \n1                1               1               1               1   \n2                0               0               0               0   \n3                0               0               0               0   \n4                0               0               0               0   \n\n   volumeCounts12H  volumeCounts24H  volumeCounts3D  volumeCounts5D  \\\n0                0                0               3               6   \n1                1                1               3               3   \n2                0                0               5              11   \n3                0                0               5              13   \n4                0                0               0               0   \n\n   volumeCounts7D  \n0               7  \n1               3  \n2              17  \n3              15  \n4               0  ",
            "text/html": "<div>\n<style scoped>\n    .dataframe tbody tr th:only-of-type {\n        vertical-align: middle;\n    }\n\n    .dataframe tbody tr th {\n        vertical-align: top;\n    }\n\n    .dataframe thead th {\n        text-align: right;\n    }\n</style>\n<table border=\"1\" class=\"dataframe\">\n  <thead>\n    <tr style=\"text-align: right;\">\n      <th></th>\n      <th>time</th>\n      <th>sourceTimestamp</th>\n      <th>firstCreated</th>\n      <th>sourceId</th>\n      <th>headline</th>\n      <th>urgency</th>\n      <th>takeSequence</th>\n      <th>provider</th>\n      <th>subjects</th>\n      <th>audiences</th>\n      <th>bodySize</th>\n      <th>companyCount</th>\n      <th>headlineTag</th>\n      <th>marketCommentary</th>\n      <th>sentenceCount</th>\n      <th>wordCount</th>\n      <th>assetCodes</th>\n      <th>assetName</th>\n      <th>firstMentionSentence</th>\n      <th>relevance</th>\n      <th>sentimentClass</th>\n      <th>sentimentNegative</th>\n      <th>sentimentNeutral</th>\n      <th>sentimentPositive</th>\n      <th>sentimentWordCount</th>\n      <th>noveltyCount12H</th>\n      <th>noveltyCount24H</th>\n      <th>noveltyCount3D</th>\n      <th>noveltyCount5D</th>\n      <th>noveltyCount7D</th>\n      <th>volumeCounts12H</th>\n      <th>volumeCounts24H</th>\n      <th>volumeCounts3D</th>\n      <th>volumeCounts5D</th>\n      <th>volumeCounts7D</th>\n    </tr>\n  </thead>\n  <tbody>\n    <tr>\n      <th>0</th>\n      <td>2007-01-01 04:29:32+00:00</td>\n      <td>2007-01-01 04:29:32+00:00</td>\n      <td>2007-01-01 04:29:32+00:00</td>\n      <td>e58c6279551b85cf</td>\n      <td>China's Daqing pumps 43.41 mln tonnes of oil i...</td>\n      <td>3</td>\n      <td>1</td>\n      <td>RTRS</td>\n      <td>{'ENR', 'ASIA', 'CN', 'NGS', 'EMRG', 'RTRS', '...</td>\n      <td>{'Z', 'O', 'OIL'}</td>\n      <td>1438</td>\n      <td>1</td>\n      <td></td>\n      <td>False</td>\n      <td>11</td>\n      <td>275</td>\n      <td>{'0857.HK', '0857.F', '0857.DE', 'PTR.N'}</td>\n      <td>PetroChina Co Ltd</td>\n      <td>6</td>\n      <td>0.235702</td>\n      <td>-1</td>\n      <td>0.500739</td>\n      <td>0.419327</td>\n      <td>0.079934</td>\n      <td>73</td>\n      <td>0</td>\n      <td>0</td>\n      <td>0</td>\n      <td>0</td>\n      <td>0</td>\n      <td>0</td>\n      <td>0</td>\n      <td>3</td>\n      <td>6</td>\n      <td>7</td>\n    </tr>\n    <tr>\n      <th>1</th>\n      <td>2007-01-01 07:03:35+00:00</td>\n      <td>2007-01-01 07:03:34+00:00</td>\n      <td>2007-01-01 07:03:34+00:00</td>\n      <td>5a31c4327427f63f</td>\n      <td>FEATURE-In kidnapping, finesse works best</td>\n      <td>3</td>\n      <td>1</td>\n      <td>RTRS</td>\n      <td>{'FEA', 'CA', 'LATAM', 'MX', 'INS', 'ASIA', 'I...</td>\n      <td>{'PGE', 'PCO', 'G', 'ESN', 'MD', 'PCU', 'DNP',...</td>\n      <td>4413</td>\n      <td>1</td>\n      <td>FEATURE</td>\n      <td>False</td>\n      <td>55</td>\n      <td>907</td>\n      <td>{'STA.N'}</td>\n      <td>Travelers Companies Inc</td>\n      <td>8</td>\n      <td>0.447214</td>\n      <td>-1</td>\n      <td>0.600082</td>\n      <td>0.345853</td>\n      <td>0.054064</td>\n      <td>62</td>\n      <td>1</td>\n      <td>1</td>\n      <td>1</td>\n      <td>1</td>\n      <td>1</td>\n      <td>1</td>\n      <td>1</td>\n      <td>3</td>\n      <td>3</td>\n      <td>3</td>\n    </tr>\n    <tr>\n      <th>2</th>\n      <td>2007-01-01 11:29:56+00:00</td>\n      <td>2007-01-01 11:29:56+00:00</td>\n      <td>2007-01-01 11:29:56+00:00</td>\n      <td>1cefd27a40fabdfe</td>\n      <td>PRESS DIGEST - Wall Street Journal - Jan 1</td>\n      <td>3</td>\n      <td>1</td>\n      <td>RTRS</td>\n      <td>{'RET', 'ENR', 'ID', 'BG', 'US', 'PRESS', 'IQ'...</td>\n      <td>{'T', 'DNP', 'PSC', 'U', 'D', 'M', 'RNP', 'PTD...</td>\n      <td>2108</td>\n      <td>2</td>\n      <td>PRESS DIGEST</td>\n      <td>False</td>\n      <td>15</td>\n      <td>388</td>\n      <td>{'WMT.DE', 'WMT.N'}</td>\n      <td>Wal-Mart Stores Inc</td>\n      <td>14</td>\n      <td>0.377964</td>\n      <td>-1</td>\n      <td>0.450049</td>\n      <td>0.295671</td>\n      <td>0.254280</td>\n      <td>67</td>\n      <td>0</td>\n      <td>0</td>\n      <td>0</td>\n      <td>0</td>\n      <td>0</td>\n      <td>0</td>\n      <td>0</td>\n      <td>5</td>\n      <td>11</td>\n      <td>17</td>\n    </tr>\n    <tr>\n      <th>3</th>\n      <td>2007-01-01 12:08:37+00:00</td>\n      <td>2007-01-01 12:08:37+00:00</td>\n      <td>2007-01-01 12:08:37+00:00</td>\n      <td>23768af19dc69992</td>\n      <td>PRESS DIGEST - New York Times - Jan 1</td>\n      <td>3</td>\n      <td>1</td>\n      <td>RTRS</td>\n      <td>{'FUND', 'FIN', 'CA', 'SFWR', 'INS', 'PUB', 'B...</td>\n      <td>{'T', 'DNP', 'PSC', 'U', 'D', 'M', 'RNP', 'PTD...</td>\n      <td>1776</td>\n      <td>6</td>\n      <td>PRESS DIGEST</td>\n      <td>False</td>\n      <td>14</td>\n      <td>325</td>\n      <td>{'GOOG.O', 'GOOG.OQ', 'GOOGa.DE'}</td>\n      <td>Google Inc</td>\n      <td>13</td>\n      <td>0.149071</td>\n      <td>-1</td>\n      <td>0.752917</td>\n      <td>0.162715</td>\n      <td>0.084368</td>\n      <td>83</td>\n      <td>0</td>\n      <td>0</td>\n      <td>0</td>\n      <td>0</td>\n      <td>0</td>\n      <td>0</td>\n      <td>0</td>\n      <td>5</td>\n      <td>13</td>\n      <td>15</td>\n    </tr>\n    <tr>\n      <th>4</th>\n      <td>2007-01-01 12:08:37+00:00</td>\n      <td>2007-01-01 12:08:37+00:00</td>\n      <td>2007-01-01 12:08:37+00:00</td>\n      <td>23768af19dc69992</td>\n      <td>PRESS DIGEST - New York Times - Jan 1</td>\n      <td>3</td>\n      <td>1</td>\n      <td>RTRS</td>\n      <td>{'FUND', 'FIN', 'CA', 'SFWR', 'INS', 'PUB', 'B...</td>\n      <td>{'T', 'DNP', 'PSC', 'U', 'D', 'M', 'RNP', 'PTD...</td>\n      <td>1776</td>\n      <td>6</td>\n      <td>PRESS DIGEST</td>\n      <td>False</td>\n      <td>14</td>\n      <td>325</td>\n      <td>{'XMSR.O'}</td>\n      <td>XM Satellite Radio Holdings Inc</td>\n      <td>11</td>\n      <td>0.149071</td>\n      <td>-1</td>\n      <td>0.699274</td>\n      <td>0.209360</td>\n      <td>0.091366</td>\n      <td>102</td>\n      <td>0</td>\n      <td>0</td>\n      <td>0</td>\n      <td>0</td>\n      <td>0</td>\n      <td>0</td>\n      <td>0</td>\n      <td>0</td>\n      <td>0</td>\n      <td>0</td>\n    </tr>\n  </tbody>\n</table>\n</div>"
          },
          "metadata": {}
        }
      ]
    },
    {
      "metadata": {
        "trusted": true,
        "_uuid": "5f8126a3132ae0ac8f79ae6decacf2cb37f5fe65"
      },
      "cell_type": "code",
      "source": "data_train_df.head()",
      "execution_count": 8,
      "outputs": [
        {
          "output_type": "execute_result",
          "execution_count": 8,
          "data": {
            "text/plain": "                       time assetCode                 assetName      volume  \\\n0 2007-02-01 22:00:00+00:00       A.N  Agilent Technologies Inc   2606900.0   \n1 2007-02-01 22:00:00+00:00     AAI.N      AirTran Holdings Inc   2051600.0   \n2 2007-02-01 22:00:00+00:00     AAP.N    Advance Auto Parts Inc   1164800.0   \n3 2007-02-01 22:00:00+00:00    AAPL.O                 Apple Inc  23747329.0   \n4 2007-02-01 22:00:00+00:00     ABB.N                   ABB Ltd   1208600.0   \n\n   close   open  returnsClosePrevRaw1  returnsOpenPrevRaw1  \\\n0  32.19  32.17              0.005938             0.005312   \n1  11.12  11.08              0.004517            -0.007168   \n2  37.51  37.99             -0.011594             0.025648   \n3  84.74  86.23             -0.011548             0.016324   \n4  18.02  18.01              0.011791             0.025043   \n\n   returnsClosePrevMktres1  returnsOpenPrevMktres1  returnsClosePrevRaw10  \\\n0                      NaN                     NaN              -0.001860   \n1                      NaN                     NaN              -0.078708   \n2                      NaN                     NaN               0.014332   \n3                      NaN                     NaN              -0.048613   \n4                      NaN                     NaN               0.012929   \n\n   returnsOpenPrevRaw10  returnsClosePrevMktres10  returnsOpenPrevMktres10  \\\n0              0.000622                       NaN                      NaN   \n1             -0.088066                       NaN                      NaN   \n2              0.045405                       NaN                      NaN   \n3             -0.037182                       NaN                      NaN   \n4              0.020397                       NaN                      NaN   \n\n   returnsOpenNextMktres10  universe  \n0                 0.034672       1.0  \n1                 0.027803       0.0  \n2                 0.024433       1.0  \n3                -0.007425       1.0  \n4                -0.017994       1.0  ",
            "text/html": "<div>\n<style scoped>\n    .dataframe tbody tr th:only-of-type {\n        vertical-align: middle;\n    }\n\n    .dataframe tbody tr th {\n        vertical-align: top;\n    }\n\n    .dataframe thead th {\n        text-align: right;\n    }\n</style>\n<table border=\"1\" class=\"dataframe\">\n  <thead>\n    <tr style=\"text-align: right;\">\n      <th></th>\n      <th>time</th>\n      <th>assetCode</th>\n      <th>assetName</th>\n      <th>volume</th>\n      <th>close</th>\n      <th>open</th>\n      <th>returnsClosePrevRaw1</th>\n      <th>returnsOpenPrevRaw1</th>\n      <th>returnsClosePrevMktres1</th>\n      <th>returnsOpenPrevMktres1</th>\n      <th>returnsClosePrevRaw10</th>\n      <th>returnsOpenPrevRaw10</th>\n      <th>returnsClosePrevMktres10</th>\n      <th>returnsOpenPrevMktres10</th>\n      <th>returnsOpenNextMktres10</th>\n      <th>universe</th>\n    </tr>\n  </thead>\n  <tbody>\n    <tr>\n      <th>0</th>\n      <td>2007-02-01 22:00:00+00:00</td>\n      <td>A.N</td>\n      <td>Agilent Technologies Inc</td>\n      <td>2606900.0</td>\n      <td>32.19</td>\n      <td>32.17</td>\n      <td>0.005938</td>\n      <td>0.005312</td>\n      <td>NaN</td>\n      <td>NaN</td>\n      <td>-0.001860</td>\n      <td>0.000622</td>\n      <td>NaN</td>\n      <td>NaN</td>\n      <td>0.034672</td>\n      <td>1.0</td>\n    </tr>\n    <tr>\n      <th>1</th>\n      <td>2007-02-01 22:00:00+00:00</td>\n      <td>AAI.N</td>\n      <td>AirTran Holdings Inc</td>\n      <td>2051600.0</td>\n      <td>11.12</td>\n      <td>11.08</td>\n      <td>0.004517</td>\n      <td>-0.007168</td>\n      <td>NaN</td>\n      <td>NaN</td>\n      <td>-0.078708</td>\n      <td>-0.088066</td>\n      <td>NaN</td>\n      <td>NaN</td>\n      <td>0.027803</td>\n      <td>0.0</td>\n    </tr>\n    <tr>\n      <th>2</th>\n      <td>2007-02-01 22:00:00+00:00</td>\n      <td>AAP.N</td>\n      <td>Advance Auto Parts Inc</td>\n      <td>1164800.0</td>\n      <td>37.51</td>\n      <td>37.99</td>\n      <td>-0.011594</td>\n      <td>0.025648</td>\n      <td>NaN</td>\n      <td>NaN</td>\n      <td>0.014332</td>\n      <td>0.045405</td>\n      <td>NaN</td>\n      <td>NaN</td>\n      <td>0.024433</td>\n      <td>1.0</td>\n    </tr>\n    <tr>\n      <th>3</th>\n      <td>2007-02-01 22:00:00+00:00</td>\n      <td>AAPL.O</td>\n      <td>Apple Inc</td>\n      <td>23747329.0</td>\n      <td>84.74</td>\n      <td>86.23</td>\n      <td>-0.011548</td>\n      <td>0.016324</td>\n      <td>NaN</td>\n      <td>NaN</td>\n      <td>-0.048613</td>\n      <td>-0.037182</td>\n      <td>NaN</td>\n      <td>NaN</td>\n      <td>-0.007425</td>\n      <td>1.0</td>\n    </tr>\n    <tr>\n      <th>4</th>\n      <td>2007-02-01 22:00:00+00:00</td>\n      <td>ABB.N</td>\n      <td>ABB Ltd</td>\n      <td>1208600.0</td>\n      <td>18.02</td>\n      <td>18.01</td>\n      <td>0.011791</td>\n      <td>0.025043</td>\n      <td>NaN</td>\n      <td>NaN</td>\n      <td>0.012929</td>\n      <td>0.020397</td>\n      <td>NaN</td>\n      <td>NaN</td>\n      <td>-0.017994</td>\n      <td>1.0</td>\n    </tr>\n  </tbody>\n</table>\n</div>"
          },
          "metadata": {}
        }
      ]
    },
    {
      "metadata": {
        "trusted": true,
        "_uuid": "8cace17f2cd11f01d5fecfa2e8c6dfb2042ee0a4"
      },
      "cell_type": "code",
      "source": "data_train_df[\"oc\"] = data_train_df.open - data_train_df.close",
      "execution_count": 9,
      "outputs": []
    },
    {
      "metadata": {
        "trusted": true,
        "_uuid": "90d85a561207545416ecde9297985c06b17d7915"
      },
      "cell_type": "code",
      "source": "data_train_df[\"sell\"] = data_train_df.volume/data_train_df.close",
      "execution_count": 10,
      "outputs": []
    },
    {
      "metadata": {
        "trusted": true,
        "_uuid": "d4941193a26c4b56474fb0bd1438fcd25983e581"
      },
      "cell_type": "code",
      "source": "data_train_df.head()",
      "execution_count": 11,
      "outputs": [
        {
          "output_type": "execute_result",
          "execution_count": 11,
          "data": {
            "text/plain": "                       time assetCode                 assetName      volume  \\\n0 2007-02-01 22:00:00+00:00       A.N  Agilent Technologies Inc   2606900.0   \n1 2007-02-01 22:00:00+00:00     AAI.N      AirTran Holdings Inc   2051600.0   \n2 2007-02-01 22:00:00+00:00     AAP.N    Advance Auto Parts Inc   1164800.0   \n3 2007-02-01 22:00:00+00:00    AAPL.O                 Apple Inc  23747329.0   \n4 2007-02-01 22:00:00+00:00     ABB.N                   ABB Ltd   1208600.0   \n\n   close   open  returnsClosePrevRaw1  returnsOpenPrevRaw1  \\\n0  32.19  32.17              0.005938             0.005312   \n1  11.12  11.08              0.004517            -0.007168   \n2  37.51  37.99             -0.011594             0.025648   \n3  84.74  86.23             -0.011548             0.016324   \n4  18.02  18.01              0.011791             0.025043   \n\n   returnsClosePrevMktres1  returnsOpenPrevMktres1  returnsClosePrevRaw10  \\\n0                      NaN                     NaN              -0.001860   \n1                      NaN                     NaN              -0.078708   \n2                      NaN                     NaN               0.014332   \n3                      NaN                     NaN              -0.048613   \n4                      NaN                     NaN               0.012929   \n\n   returnsOpenPrevRaw10  returnsClosePrevMktres10  returnsOpenPrevMktres10  \\\n0              0.000622                       NaN                      NaN   \n1             -0.088066                       NaN                      NaN   \n2              0.045405                       NaN                      NaN   \n3             -0.037182                       NaN                      NaN   \n4              0.020397                       NaN                      NaN   \n\n   returnsOpenNextMktres10  universe    oc           sell  \n0                 0.034672       1.0 -0.02   80984.777881  \n1                 0.027803       0.0 -0.04  184496.402878  \n2                 0.024433       1.0  0.48   31053.052519  \n3                -0.007425       1.0  1.49  280237.538353  \n4                -0.017994       1.0 -0.01   67069.922309  ",
            "text/html": "<div>\n<style scoped>\n    .dataframe tbody tr th:only-of-type {\n        vertical-align: middle;\n    }\n\n    .dataframe tbody tr th {\n        vertical-align: top;\n    }\n\n    .dataframe thead th {\n        text-align: right;\n    }\n</style>\n<table border=\"1\" class=\"dataframe\">\n  <thead>\n    <tr style=\"text-align: right;\">\n      <th></th>\n      <th>time</th>\n      <th>assetCode</th>\n      <th>assetName</th>\n      <th>volume</th>\n      <th>close</th>\n      <th>open</th>\n      <th>returnsClosePrevRaw1</th>\n      <th>returnsOpenPrevRaw1</th>\n      <th>returnsClosePrevMktres1</th>\n      <th>returnsOpenPrevMktres1</th>\n      <th>returnsClosePrevRaw10</th>\n      <th>returnsOpenPrevRaw10</th>\n      <th>returnsClosePrevMktres10</th>\n      <th>returnsOpenPrevMktres10</th>\n      <th>returnsOpenNextMktres10</th>\n      <th>universe</th>\n      <th>oc</th>\n      <th>sell</th>\n    </tr>\n  </thead>\n  <tbody>\n    <tr>\n      <th>0</th>\n      <td>2007-02-01 22:00:00+00:00</td>\n      <td>A.N</td>\n      <td>Agilent Technologies Inc</td>\n      <td>2606900.0</td>\n      <td>32.19</td>\n      <td>32.17</td>\n      <td>0.005938</td>\n      <td>0.005312</td>\n      <td>NaN</td>\n      <td>NaN</td>\n      <td>-0.001860</td>\n      <td>0.000622</td>\n      <td>NaN</td>\n      <td>NaN</td>\n      <td>0.034672</td>\n      <td>1.0</td>\n      <td>-0.02</td>\n      <td>80984.777881</td>\n    </tr>\n    <tr>\n      <th>1</th>\n      <td>2007-02-01 22:00:00+00:00</td>\n      <td>AAI.N</td>\n      <td>AirTran Holdings Inc</td>\n      <td>2051600.0</td>\n      <td>11.12</td>\n      <td>11.08</td>\n      <td>0.004517</td>\n      <td>-0.007168</td>\n      <td>NaN</td>\n      <td>NaN</td>\n      <td>-0.078708</td>\n      <td>-0.088066</td>\n      <td>NaN</td>\n      <td>NaN</td>\n      <td>0.027803</td>\n      <td>0.0</td>\n      <td>-0.04</td>\n      <td>184496.402878</td>\n    </tr>\n    <tr>\n      <th>2</th>\n      <td>2007-02-01 22:00:00+00:00</td>\n      <td>AAP.N</td>\n      <td>Advance Auto Parts Inc</td>\n      <td>1164800.0</td>\n      <td>37.51</td>\n      <td>37.99</td>\n      <td>-0.011594</td>\n      <td>0.025648</td>\n      <td>NaN</td>\n      <td>NaN</td>\n      <td>0.014332</td>\n      <td>0.045405</td>\n      <td>NaN</td>\n      <td>NaN</td>\n      <td>0.024433</td>\n      <td>1.0</td>\n      <td>0.48</td>\n      <td>31053.052519</td>\n    </tr>\n    <tr>\n      <th>3</th>\n      <td>2007-02-01 22:00:00+00:00</td>\n      <td>AAPL.O</td>\n      <td>Apple Inc</td>\n      <td>23747329.0</td>\n      <td>84.74</td>\n      <td>86.23</td>\n      <td>-0.011548</td>\n      <td>0.016324</td>\n      <td>NaN</td>\n      <td>NaN</td>\n      <td>-0.048613</td>\n      <td>-0.037182</td>\n      <td>NaN</td>\n      <td>NaN</td>\n      <td>-0.007425</td>\n      <td>1.0</td>\n      <td>1.49</td>\n      <td>280237.538353</td>\n    </tr>\n    <tr>\n      <th>4</th>\n      <td>2007-02-01 22:00:00+00:00</td>\n      <td>ABB.N</td>\n      <td>ABB Ltd</td>\n      <td>1208600.0</td>\n      <td>18.02</td>\n      <td>18.01</td>\n      <td>0.011791</td>\n      <td>0.025043</td>\n      <td>NaN</td>\n      <td>NaN</td>\n      <td>0.012929</td>\n      <td>0.020397</td>\n      <td>NaN</td>\n      <td>NaN</td>\n      <td>-0.017994</td>\n      <td>1.0</td>\n      <td>-0.01</td>\n      <td>67069.922309</td>\n    </tr>\n  </tbody>\n</table>\n</div>"
          },
          "metadata": {}
        }
      ]
    },
    {
      "metadata": {
        "trusted": true,
        "_uuid": "beeea50f43cdd0c55f8a7721d535d20d85ae2094"
      },
      "cell_type": "code",
      "source": "data_train_df.isnull().sum()",
      "execution_count": 12,
      "outputs": [
        {
          "output_type": "execute_result",
          "execution_count": 12,
          "data": {
            "text/plain": "time                            0\nassetCode                       0\nassetName                       0\nvolume                          0\nclose                           0\nopen                            0\nreturnsClosePrevRaw1            0\nreturnsOpenPrevRaw1             0\nreturnsClosePrevMktres1     15980\nreturnsOpenPrevMktres1      15988\nreturnsClosePrevRaw10           0\nreturnsOpenPrevRaw10            0\nreturnsClosePrevMktres10    93010\nreturnsOpenPrevMktres10     93054\nreturnsOpenNextMktres10         0\nuniverse                        0\noc                              0\nsell                            0\ndtype: int64"
          },
          "metadata": {}
        }
      ]
    },
    {
      "metadata": {
        "trusted": true,
        "_uuid": "8bea77d2602b2112ce4a6e3af39bfe79b5891835"
      },
      "cell_type": "code",
      "source": "news_train_df.isnull().sum()",
      "execution_count": 13,
      "outputs": [
        {
          "output_type": "execute_result",
          "execution_count": 13,
          "data": {
            "text/plain": "time                    0\nsourceTimestamp         0\nfirstCreated            0\nsourceId                0\nheadline                0\nurgency                 0\ntakeSequence            0\nprovider                0\nsubjects                0\naudiences               0\nbodySize                0\ncompanyCount            0\nheadlineTag             0\nmarketCommentary        0\nsentenceCount           0\nwordCount               0\nassetCodes              0\nassetName               0\nfirstMentionSentence    0\nrelevance               0\nsentimentClass          0\nsentimentNegative       0\nsentimentNeutral        0\nsentimentPositive       0\nsentimentWordCount      0\nnoveltyCount12H         0\nnoveltyCount24H         0\nnoveltyCount3D          0\nnoveltyCount5D          0\nnoveltyCount7D          0\nvolumeCounts12H         0\nvolumeCounts24H         0\nvolumeCounts3D          0\nvolumeCounts5D          0\nvolumeCounts7D          0\ndtype: int64"
          },
          "metadata": {}
        }
      ]
    },
    {
      "metadata": {
        "_uuid": "7f6c6873edcd347eea85c3376667eb37f3658274"
      },
      "cell_type": "markdown",
      "source": "dataには会社名・日時・株の値段推移のデータがあります。  \nnewsはニュースのタイトルと概要が入ってます。  \nsubjectsなどは国などニュースに関わる国が複数入っています。  \n学習しやすいように、リスト型に直しましょう。"
    },
    {
      "metadata": {
        "trusted": true,
        "_uuid": "94ac9cc74057405d5dae3d0ea81e898c9b2498f3"
      },
      "cell_type": "code",
      "source": "news_train_df.headline.head()",
      "execution_count": 14,
      "outputs": [
        {
          "output_type": "execute_result",
          "execution_count": 14,
          "data": {
            "text/plain": "0    China's Daqing pumps 43.41 mln tonnes of oil i...\n1            FEATURE-In kidnapping, finesse works best\n2           PRESS DIGEST - Wall Street Journal - Jan 1\n3                PRESS DIGEST - New York Times - Jan 1\n4                PRESS DIGEST - New York Times - Jan 1\nName: headline, dtype: object"
          },
          "metadata": {}
        }
      ]
    },
    {
      "metadata": {
        "trusted": true,
        "_uuid": "ca8d3ec68ce081d13eea3bde73395a0954a87a78"
      },
      "cell_type": "code",
      "source": "# news_train_df['subjects'] = news_train_df['subjects'].str.findall(f\"'([\\w\\./]+)'\")\n# news_train_df['audiences'] = news_train_df['audiences'].str.findall(f\"'([\\w\\./]+)'\")\n# news_train_df['assetCodes'] = news_train_df['assetCodes'].str.findall(f\"'([\\w\\./]+)'\")\n#news_train_df[\"headline\"] = news_train_df[\"headline\"].str.findall(f\"'([\\w\\./]+)'\")",
      "execution_count": 15,
      "outputs": []
    },
    {
      "metadata": {
        "_uuid": "da767e1134c3a1621b99d6d195634b3ac1e80590"
      },
      "cell_type": "markdown",
      "source": "今回はニュースを学習データにして予測していきたいので、newsにあるheadlineを学習できる形に持っていきましょう。  \nまずは大文字を小文字にしスペースを区切っていきましょう。"
    },
    {
      "metadata": {
        "trusted": true,
        "_uuid": "5a8f6f530e855a778dcc1118a08771b443590825"
      },
      "cell_type": "code",
      "source": "news_train_df.head()",
      "execution_count": 16,
      "outputs": [
        {
          "output_type": "execute_result",
          "execution_count": 16,
          "data": {
            "text/plain": "                       time           sourceTimestamp  \\\n0 2007-01-01 04:29:32+00:00 2007-01-01 04:29:32+00:00   \n1 2007-01-01 07:03:35+00:00 2007-01-01 07:03:34+00:00   \n2 2007-01-01 11:29:56+00:00 2007-01-01 11:29:56+00:00   \n3 2007-01-01 12:08:37+00:00 2007-01-01 12:08:37+00:00   \n4 2007-01-01 12:08:37+00:00 2007-01-01 12:08:37+00:00   \n\n               firstCreated          sourceId  \\\n0 2007-01-01 04:29:32+00:00  e58c6279551b85cf   \n1 2007-01-01 07:03:34+00:00  5a31c4327427f63f   \n2 2007-01-01 11:29:56+00:00  1cefd27a40fabdfe   \n3 2007-01-01 12:08:37+00:00  23768af19dc69992   \n4 2007-01-01 12:08:37+00:00  23768af19dc69992   \n\n                                            headline  urgency  takeSequence  \\\n0  China's Daqing pumps 43.41 mln tonnes of oil i...        3             1   \n1          FEATURE-In kidnapping, finesse works best        3             1   \n2         PRESS DIGEST - Wall Street Journal - Jan 1        3             1   \n3              PRESS DIGEST - New York Times - Jan 1        3             1   \n4              PRESS DIGEST - New York Times - Jan 1        3             1   \n\n  provider                                           subjects  \\\n0     RTRS  {'ENR', 'ASIA', 'CN', 'NGS', 'EMRG', 'RTRS', '...   \n1     RTRS  {'FEA', 'CA', 'LATAM', 'MX', 'INS', 'ASIA', 'I...   \n2     RTRS  {'RET', 'ENR', 'ID', 'BG', 'US', 'PRESS', 'IQ'...   \n3     RTRS  {'FUND', 'FIN', 'CA', 'SFWR', 'INS', 'PUB', 'B...   \n4     RTRS  {'FUND', 'FIN', 'CA', 'SFWR', 'INS', 'PUB', 'B...   \n\n                                           audiences  bodySize  companyCount  \\\n0                                  {'Z', 'O', 'OIL'}      1438             1   \n1  {'PGE', 'PCO', 'G', 'ESN', 'MD', 'PCU', 'DNP',...      4413             1   \n2  {'T', 'DNP', 'PSC', 'U', 'D', 'M', 'RNP', 'PTD...      2108             2   \n3  {'T', 'DNP', 'PSC', 'U', 'D', 'M', 'RNP', 'PTD...      1776             6   \n4  {'T', 'DNP', 'PSC', 'U', 'D', 'M', 'RNP', 'PTD...      1776             6   \n\n    headlineTag  marketCommentary  sentenceCount  wordCount  \\\n0                           False             11        275   \n1       FEATURE             False             55        907   \n2  PRESS DIGEST             False             15        388   \n3  PRESS DIGEST             False             14        325   \n4  PRESS DIGEST             False             14        325   \n\n                                  assetCodes                        assetName  \\\n0  {'0857.HK', '0857.F', '0857.DE', 'PTR.N'}                PetroChina Co Ltd   \n1                                  {'STA.N'}          Travelers Companies Inc   \n2                        {'WMT.DE', 'WMT.N'}              Wal-Mart Stores Inc   \n3          {'GOOG.O', 'GOOG.OQ', 'GOOGa.DE'}                       Google Inc   \n4                                 {'XMSR.O'}  XM Satellite Radio Holdings Inc   \n\n   firstMentionSentence  relevance  sentimentClass  sentimentNegative  \\\n0                     6   0.235702              -1           0.500739   \n1                     8   0.447214              -1           0.600082   \n2                    14   0.377964              -1           0.450049   \n3                    13   0.149071              -1           0.752917   \n4                    11   0.149071              -1           0.699274   \n\n   sentimentNeutral  sentimentPositive  sentimentWordCount  noveltyCount12H  \\\n0          0.419327           0.079934                  73                0   \n1          0.345853           0.054064                  62                1   \n2          0.295671           0.254280                  67                0   \n3          0.162715           0.084368                  83                0   \n4          0.209360           0.091366                 102                0   \n\n   noveltyCount24H  noveltyCount3D  noveltyCount5D  noveltyCount7D  \\\n0                0               0               0               0   \n1                1               1               1               1   \n2                0               0               0               0   \n3                0               0               0               0   \n4                0               0               0               0   \n\n   volumeCounts12H  volumeCounts24H  volumeCounts3D  volumeCounts5D  \\\n0                0                0               3               6   \n1                1                1               3               3   \n2                0                0               5              11   \n3                0                0               5              13   \n4                0                0               0               0   \n\n   volumeCounts7D  \n0               7  \n1               3  \n2              17  \n3              15  \n4               0  ",
            "text/html": "<div>\n<style scoped>\n    .dataframe tbody tr th:only-of-type {\n        vertical-align: middle;\n    }\n\n    .dataframe tbody tr th {\n        vertical-align: top;\n    }\n\n    .dataframe thead th {\n        text-align: right;\n    }\n</style>\n<table border=\"1\" class=\"dataframe\">\n  <thead>\n    <tr style=\"text-align: right;\">\n      <th></th>\n      <th>time</th>\n      <th>sourceTimestamp</th>\n      <th>firstCreated</th>\n      <th>sourceId</th>\n      <th>headline</th>\n      <th>urgency</th>\n      <th>takeSequence</th>\n      <th>provider</th>\n      <th>subjects</th>\n      <th>audiences</th>\n      <th>bodySize</th>\n      <th>companyCount</th>\n      <th>headlineTag</th>\n      <th>marketCommentary</th>\n      <th>sentenceCount</th>\n      <th>wordCount</th>\n      <th>assetCodes</th>\n      <th>assetName</th>\n      <th>firstMentionSentence</th>\n      <th>relevance</th>\n      <th>sentimentClass</th>\n      <th>sentimentNegative</th>\n      <th>sentimentNeutral</th>\n      <th>sentimentPositive</th>\n      <th>sentimentWordCount</th>\n      <th>noveltyCount12H</th>\n      <th>noveltyCount24H</th>\n      <th>noveltyCount3D</th>\n      <th>noveltyCount5D</th>\n      <th>noveltyCount7D</th>\n      <th>volumeCounts12H</th>\n      <th>volumeCounts24H</th>\n      <th>volumeCounts3D</th>\n      <th>volumeCounts5D</th>\n      <th>volumeCounts7D</th>\n    </tr>\n  </thead>\n  <tbody>\n    <tr>\n      <th>0</th>\n      <td>2007-01-01 04:29:32+00:00</td>\n      <td>2007-01-01 04:29:32+00:00</td>\n      <td>2007-01-01 04:29:32+00:00</td>\n      <td>e58c6279551b85cf</td>\n      <td>China's Daqing pumps 43.41 mln tonnes of oil i...</td>\n      <td>3</td>\n      <td>1</td>\n      <td>RTRS</td>\n      <td>{'ENR', 'ASIA', 'CN', 'NGS', 'EMRG', 'RTRS', '...</td>\n      <td>{'Z', 'O', 'OIL'}</td>\n      <td>1438</td>\n      <td>1</td>\n      <td></td>\n      <td>False</td>\n      <td>11</td>\n      <td>275</td>\n      <td>{'0857.HK', '0857.F', '0857.DE', 'PTR.N'}</td>\n      <td>PetroChina Co Ltd</td>\n      <td>6</td>\n      <td>0.235702</td>\n      <td>-1</td>\n      <td>0.500739</td>\n      <td>0.419327</td>\n      <td>0.079934</td>\n      <td>73</td>\n      <td>0</td>\n      <td>0</td>\n      <td>0</td>\n      <td>0</td>\n      <td>0</td>\n      <td>0</td>\n      <td>0</td>\n      <td>3</td>\n      <td>6</td>\n      <td>7</td>\n    </tr>\n    <tr>\n      <th>1</th>\n      <td>2007-01-01 07:03:35+00:00</td>\n      <td>2007-01-01 07:03:34+00:00</td>\n      <td>2007-01-01 07:03:34+00:00</td>\n      <td>5a31c4327427f63f</td>\n      <td>FEATURE-In kidnapping, finesse works best</td>\n      <td>3</td>\n      <td>1</td>\n      <td>RTRS</td>\n      <td>{'FEA', 'CA', 'LATAM', 'MX', 'INS', 'ASIA', 'I...</td>\n      <td>{'PGE', 'PCO', 'G', 'ESN', 'MD', 'PCU', 'DNP',...</td>\n      <td>4413</td>\n      <td>1</td>\n      <td>FEATURE</td>\n      <td>False</td>\n      <td>55</td>\n      <td>907</td>\n      <td>{'STA.N'}</td>\n      <td>Travelers Companies Inc</td>\n      <td>8</td>\n      <td>0.447214</td>\n      <td>-1</td>\n      <td>0.600082</td>\n      <td>0.345853</td>\n      <td>0.054064</td>\n      <td>62</td>\n      <td>1</td>\n      <td>1</td>\n      <td>1</td>\n      <td>1</td>\n      <td>1</td>\n      <td>1</td>\n      <td>1</td>\n      <td>3</td>\n      <td>3</td>\n      <td>3</td>\n    </tr>\n    <tr>\n      <th>2</th>\n      <td>2007-01-01 11:29:56+00:00</td>\n      <td>2007-01-01 11:29:56+00:00</td>\n      <td>2007-01-01 11:29:56+00:00</td>\n      <td>1cefd27a40fabdfe</td>\n      <td>PRESS DIGEST - Wall Street Journal - Jan 1</td>\n      <td>3</td>\n      <td>1</td>\n      <td>RTRS</td>\n      <td>{'RET', 'ENR', 'ID', 'BG', 'US', 'PRESS', 'IQ'...</td>\n      <td>{'T', 'DNP', 'PSC', 'U', 'D', 'M', 'RNP', 'PTD...</td>\n      <td>2108</td>\n      <td>2</td>\n      <td>PRESS DIGEST</td>\n      <td>False</td>\n      <td>15</td>\n      <td>388</td>\n      <td>{'WMT.DE', 'WMT.N'}</td>\n      <td>Wal-Mart Stores Inc</td>\n      <td>14</td>\n      <td>0.377964</td>\n      <td>-1</td>\n      <td>0.450049</td>\n      <td>0.295671</td>\n      <td>0.254280</td>\n      <td>67</td>\n      <td>0</td>\n      <td>0</td>\n      <td>0</td>\n      <td>0</td>\n      <td>0</td>\n      <td>0</td>\n      <td>0</td>\n      <td>5</td>\n      <td>11</td>\n      <td>17</td>\n    </tr>\n    <tr>\n      <th>3</th>\n      <td>2007-01-01 12:08:37+00:00</td>\n      <td>2007-01-01 12:08:37+00:00</td>\n      <td>2007-01-01 12:08:37+00:00</td>\n      <td>23768af19dc69992</td>\n      <td>PRESS DIGEST - New York Times - Jan 1</td>\n      <td>3</td>\n      <td>1</td>\n      <td>RTRS</td>\n      <td>{'FUND', 'FIN', 'CA', 'SFWR', 'INS', 'PUB', 'B...</td>\n      <td>{'T', 'DNP', 'PSC', 'U', 'D', 'M', 'RNP', 'PTD...</td>\n      <td>1776</td>\n      <td>6</td>\n      <td>PRESS DIGEST</td>\n      <td>False</td>\n      <td>14</td>\n      <td>325</td>\n      <td>{'GOOG.O', 'GOOG.OQ', 'GOOGa.DE'}</td>\n      <td>Google Inc</td>\n      <td>13</td>\n      <td>0.149071</td>\n      <td>-1</td>\n      <td>0.752917</td>\n      <td>0.162715</td>\n      <td>0.084368</td>\n      <td>83</td>\n      <td>0</td>\n      <td>0</td>\n      <td>0</td>\n      <td>0</td>\n      <td>0</td>\n      <td>0</td>\n      <td>0</td>\n      <td>5</td>\n      <td>13</td>\n      <td>15</td>\n    </tr>\n    <tr>\n      <th>4</th>\n      <td>2007-01-01 12:08:37+00:00</td>\n      <td>2007-01-01 12:08:37+00:00</td>\n      <td>2007-01-01 12:08:37+00:00</td>\n      <td>23768af19dc69992</td>\n      <td>PRESS DIGEST - New York Times - Jan 1</td>\n      <td>3</td>\n      <td>1</td>\n      <td>RTRS</td>\n      <td>{'FUND', 'FIN', 'CA', 'SFWR', 'INS', 'PUB', 'B...</td>\n      <td>{'T', 'DNP', 'PSC', 'U', 'D', 'M', 'RNP', 'PTD...</td>\n      <td>1776</td>\n      <td>6</td>\n      <td>PRESS DIGEST</td>\n      <td>False</td>\n      <td>14</td>\n      <td>325</td>\n      <td>{'XMSR.O'}</td>\n      <td>XM Satellite Radio Holdings Inc</td>\n      <td>11</td>\n      <td>0.149071</td>\n      <td>-1</td>\n      <td>0.699274</td>\n      <td>0.209360</td>\n      <td>0.091366</td>\n      <td>102</td>\n      <td>0</td>\n      <td>0</td>\n      <td>0</td>\n      <td>0</td>\n      <td>0</td>\n      <td>0</td>\n      <td>0</td>\n      <td>0</td>\n      <td>0</td>\n      <td>0</td>\n    </tr>\n  </tbody>\n</table>\n</div>"
          },
          "metadata": {}
        }
      ]
    },
    {
      "metadata": {
        "trusted": true,
        "_uuid": "249466d7cb6d816e1ebb3c58fe5ddabad134e1af"
      },
      "cell_type": "code",
      "source": "data_train_df.shape",
      "execution_count": 17,
      "outputs": [
        {
          "output_type": "execute_result",
          "execution_count": 17,
          "data": {
            "text/plain": "(4072956, 18)"
          },
          "metadata": {}
        }
      ]
    },
    {
      "metadata": {
        "trusted": true,
        "_uuid": "a0525c8650149b1c69521b50470ad4a453f71bba"
      },
      "cell_type": "code",
      "source": "",
      "execution_count": null,
      "outputs": []
    },
    {
      "metadata": {
        "_uuid": "2596f5af88eea383d9bb8dacfcac493bc133878c"
      },
      "cell_type": "markdown",
      "source": "# 自然言語処理\n今回はニュースタイトルを基準にどのようなニュースが株に影響を与えるか見ていきたいと思います。\nまずはニュースタイトルをベクトル化する為の準備をしていきましょう。"
    },
    {
      "metadata": {
        "trusted": true,
        "_uuid": "b6ad6e03ae8c1ff706787ba827ffbbfb550c3f92"
      },
      "cell_type": "code",
      "source": "def get_wordCloud(corpus):\n    wordCloud = WordCloud(background_color='white',\n                              stopwords=STOPWORDS,\n                              width=3000,\n                              height=2500,\n                              max_words=200,\n                              random_state=42\n                         ).generate(str(corpus))\n    return wordCloud",
      "execution_count": 18,
      "outputs": []
    },
    {
      "metadata": {
        "trusted": true,
        "_uuid": "dbb8a95371b4413a2c37cfe1eee87b9f94953fcd"
      },
      "cell_type": "code",
      "source": "def get_corpus(data):\n    corpus = []\n    for phrase in data:\n        for word in phrase.split():\n            corpus.append(word)\n    return corpus",
      "execution_count": 19,
      "outputs": []
    },
    {
      "metadata": {
        "_uuid": "24258235f447ba68557d958247859ce4a558fdaa"
      },
      "cell_type": "markdown",
      "source": "## タイトルの小文字化と記号の削除"
    },
    {
      "metadata": {
        "trusted": true,
        "_uuid": "6204d493ddc5d34812ddbeee04d0d27234894b1f"
      },
      "cell_type": "code",
      "source": "# headline = news_train_df[:10000].headline.str.lower()",
      "execution_count": 20,
      "outputs": []
    },
    {
      "metadata": {
        "trusted": true,
        "_uuid": "12a8ffd63cd277e710e35dcbc47857b6cc425d32"
      },
      "cell_type": "code",
      "source": "# headline = headline.str.replace(r\"[^a-z1-9]\",\" \")",
      "execution_count": 21,
      "outputs": []
    },
    {
      "metadata": {
        "trusted": true,
        "_uuid": "2f82953b32cb9919b7a4127c15a9d20f4eaa1450"
      },
      "cell_type": "code",
      "source": "# headline.head()",
      "execution_count": 22,
      "outputs": []
    },
    {
      "metadata": {
        "_uuid": "457eb9846a3629dcaa2a168f88d3a14b3f52d2a2"
      },
      "cell_type": "markdown",
      "source": "## WordCloud\nwordCloudで単語の出現頻度をかっこよく可視化する"
    },
    {
      "metadata": {
        "trusted": true,
        "_uuid": "46d07cd0b47257d4e8107949ec0ac26e8f138bb6"
      },
      "cell_type": "code",
      "source": "# from wordcloud import WordCloud,STOPWORDS",
      "execution_count": 23,
      "outputs": []
    },
    {
      "metadata": {
        "trusted": true,
        "_uuid": "230d82ac9d2f4ee624a11dc621272cee66365186"
      },
      "cell_type": "code",
      "source": "import seaborn as sns\nfrom scipy.stats import norm",
      "execution_count": 24,
      "outputs": []
    },
    {
      "metadata": {
        "trusted": true,
        "_uuid": "b8850ac7378deae20800dd7c9b82de5f2490b392"
      },
      "cell_type": "code",
      "source": "# corpus = get_corpus(headline.values)",
      "execution_count": 25,
      "outputs": []
    },
    {
      "metadata": {
        "trusted": true,
        "_uuid": "050323febf6c0509e861ad5de507f5d59946f3e1"
      },
      "cell_type": "code",
      "source": "# procWordCloud = get_wordCloud(corpus)",
      "execution_count": 26,
      "outputs": []
    },
    {
      "metadata": {
        "trusted": true,
        "_uuid": "63a058f412e74417a2bf3d87dcf12819087ca429"
      },
      "cell_type": "code",
      "source": "# fig = plt.figure(figsize=(20, 8))\n# plt.subplot(1,2,1)\n# plt.imshow(procWordCloud)\n# plt.axis('off')\n\n# plt.subplot(1,2,2)\n\n# words_count = [len(x.split(' ')) for x in headline.values]\n# sns.distplot(words_count,hist=True, kde=False, bins=10, fit=norm)\n# plt.title(\"Distribution of words in headline news\")\n# plt.xlabel('Number of words in headline news')",
      "execution_count": 27,
      "outputs": []
    },
    {
      "metadata": {
        "_uuid": "9d1ab90bede7c0f61b707d19e815f4e3cae3083a"
      },
      "cell_type": "markdown",
      "source": "特にこれには意味がないですが、watch jan digestなどが多く使われていることがわかりました。"
    },
    {
      "metadata": {
        "trusted": true,
        "_uuid": "f13c5c87f2353f1bff7e17f3d5e289aa4003c701"
      },
      "cell_type": "code",
      "source": "",
      "execution_count": null,
      "outputs": []
    },
    {
      "metadata": {
        "trusted": true,
        "_uuid": "e3f169bdaf1a34e339a4e4bac787348ee6fddb79"
      },
      "cell_type": "code",
      "source": "# headline = headline.str.split()",
      "execution_count": 28,
      "outputs": []
    },
    {
      "metadata": {
        "trusted": true,
        "_uuid": "dff7b21e484758d93c45de30b00f0b906aa8320b"
      },
      "cell_type": "code",
      "source": "# headline.head()",
      "execution_count": 29,
      "outputs": []
    },
    {
      "metadata": {
        "trusted": true,
        "_uuid": "05fd1f2f786e70663ca3217e46498ea96fc7c0a5"
      },
      "cell_type": "code",
      "source": "# from gensim.models import Word2Vec,Doc2Vec\n# from gensim.models.doc2vec import Doc2Vec\n# from gensim.models.doc2vec import TaggedDocument",
      "execution_count": 30,
      "outputs": []
    },
    {
      "metadata": {
        "trusted": true,
        "_uuid": "a1e580b66de61e9158e1fec26c44adbbf9b8d080"
      },
      "cell_type": "code",
      "source": "# import gensim",
      "execution_count": 31,
      "outputs": []
    },
    {
      "metadata": {
        "trusted": true,
        "_uuid": "c49dea7af07ecc00163582eada39d2430b0e0420"
      },
      "cell_type": "code",
      "source": "# headline = headline.str.split()",
      "execution_count": 32,
      "outputs": []
    },
    {
      "metadata": {
        "_uuid": "7c69fe2f7b07dbf763c0bd96f0cceda7eb6f3277"
      },
      "cell_type": "markdown",
      "source": "# Doc2Vecの学習データとモデルの作成"
    },
    {
      "metadata": {
        "trusted": true,
        "_uuid": "87f47d57c94e2278b5a8d07ebcb2b252502e1ca2"
      },
      "cell_type": "code",
      "source": "# trainings = [TaggedDocument(words = data.split(),tags = [i]) for i,data in enumerate(headline[:10000])]",
      "execution_count": 33,
      "outputs": []
    },
    {
      "metadata": {
        "trusted": true,
        "_uuid": "a829a83048a9ef305e97f7e7ce18035332c01a06"
      },
      "cell_type": "code",
      "source": "# model = Doc2Vec(documents= trainings, dm = 1, size=20, window=8, min_count=0, workers=4,epochs=1000)\n\n# model.save(\"doc2vec.model\")",
      "execution_count": 34,
      "outputs": []
    },
    {
      "metadata": {
        "trusted": true,
        "_uuid": "7365b1e57273e80d345afde9d60820d8625b8964"
      },
      "cell_type": "code",
      "source": "# model = Doc2Vec.load('doc2vec.model')",
      "execution_count": 35,
      "outputs": []
    },
    {
      "metadata": {
        "trusted": true,
        "_uuid": "f69706c55ff53b229db6e897cee491a1477322ee"
      },
      "cell_type": "code",
      "source": "# model.docvecs.most_similar(42)",
      "execution_count": 36,
      "outputs": []
    },
    {
      "metadata": {
        "_uuid": "1189e590e665b5d504d1adea717a8b6d5b4c111c"
      },
      "cell_type": "markdown",
      "source": "# 文字のベクトル化"
    },
    {
      "metadata": {
        "trusted": true,
        "_uuid": "8eefcdc3f4cc81bbc6a7adf595739a3e6501cce9"
      },
      "cell_type": "code",
      "source": "# line_vec = []\n# for i in headline.str.split():\n#     line_vec.append(list(model.infer_vector(i)))",
      "execution_count": 37,
      "outputs": []
    },
    {
      "metadata": {
        "trusted": true,
        "_uuid": "402940c0b62d72e759d7b54efb5502433d40f5bc"
      },
      "cell_type": "code",
      "source": "# line_vec = np.array(line_vec)",
      "execution_count": 38,
      "outputs": []
    },
    {
      "metadata": {
        "trusted": true,
        "_uuid": "207b038e2d13473e793ddd2b203117a9817754e0"
      },
      "cell_type": "code",
      "source": "# line_vec",
      "execution_count": 39,
      "outputs": []
    },
    {
      "metadata": {
        "_uuid": "06df7a03aff89261db9a75ef521f88fca7d286c6"
      },
      "cell_type": "markdown",
      "source": "# SVD"
    },
    {
      "metadata": {
        "trusted": true,
        "_uuid": "0f6e178c44d34c2ae7b40c9281744b6bb792e4f4"
      },
      "cell_type": "code",
      "source": "# from sklearn.decomposition import TruncatedSVD",
      "execution_count": 40,
      "outputs": []
    },
    {
      "metadata": {
        "trusted": true,
        "_uuid": "faa50e4f9bc31a41ae29f588cf1895e1bbf21fd1"
      },
      "cell_type": "code",
      "source": "# svd = TruncatedSVD()\n# nwe_line_vec = svd.fit_transform(line_vec)",
      "execution_count": 41,
      "outputs": []
    },
    {
      "metadata": {
        "trusted": true,
        "_uuid": "d8db982a20b5f9673d73fcc0600524825a49b345"
      },
      "cell_type": "code",
      "source": "# plt.scatter(nwe_line_vec[:,0],nwe_line_vec[:,1])",
      "execution_count": 42,
      "outputs": []
    },
    {
      "metadata": {
        "trusted": true,
        "_uuid": "d5b281a9634207da86fe77b5c8661af4e2cc35ef"
      },
      "cell_type": "code",
      "source": "# plt.figure(figsize=[20,20])\n# for i,v in enumerate(news_train_df.headline):\n#     plt.annotate(v,(nwe_line_vec[i,0],nwe_line_vec[i,1]))\n    \n# plt.scatter(nwe_line_vec[:,0],nwe_line_vec[:,1])\n\n\n# fig.show()",
      "execution_count": 43,
      "outputs": []
    },
    {
      "metadata": {
        "_uuid": "31d1d16d9e86ff64db9b1b4f8c9ba28836bcaa25"
      },
      "cell_type": "markdown",
      "source": "タイトルをベクトル化し表示させて見ました。  \nなんとなく近しいタイトルは寄っている気がします。。。w"
    },
    {
      "metadata": {
        "_uuid": "631e79c0e0f853c8742af4565ad116983047ee9e"
      },
      "cell_type": "markdown",
      "source": "# news_train_dfで使う情報の抽出"
    },
    {
      "metadata": {
        "trusted": true,
        "_uuid": "6a180e2f749246e747462c1f8c09117cf3c45b4c"
      },
      "cell_type": "code",
      "source": "news_train_df.head()",
      "execution_count": 44,
      "outputs": [
        {
          "output_type": "execute_result",
          "execution_count": 44,
          "data": {
            "text/plain": "                       time           sourceTimestamp  \\\n0 2007-01-01 04:29:32+00:00 2007-01-01 04:29:32+00:00   \n1 2007-01-01 07:03:35+00:00 2007-01-01 07:03:34+00:00   \n2 2007-01-01 11:29:56+00:00 2007-01-01 11:29:56+00:00   \n3 2007-01-01 12:08:37+00:00 2007-01-01 12:08:37+00:00   \n4 2007-01-01 12:08:37+00:00 2007-01-01 12:08:37+00:00   \n\n               firstCreated          sourceId  \\\n0 2007-01-01 04:29:32+00:00  e58c6279551b85cf   \n1 2007-01-01 07:03:34+00:00  5a31c4327427f63f   \n2 2007-01-01 11:29:56+00:00  1cefd27a40fabdfe   \n3 2007-01-01 12:08:37+00:00  23768af19dc69992   \n4 2007-01-01 12:08:37+00:00  23768af19dc69992   \n\n                                            headline  urgency  takeSequence  \\\n0  China's Daqing pumps 43.41 mln tonnes of oil i...        3             1   \n1          FEATURE-In kidnapping, finesse works best        3             1   \n2         PRESS DIGEST - Wall Street Journal - Jan 1        3             1   \n3              PRESS DIGEST - New York Times - Jan 1        3             1   \n4              PRESS DIGEST - New York Times - Jan 1        3             1   \n\n  provider                                           subjects  \\\n0     RTRS  {'ENR', 'ASIA', 'CN', 'NGS', 'EMRG', 'RTRS', '...   \n1     RTRS  {'FEA', 'CA', 'LATAM', 'MX', 'INS', 'ASIA', 'I...   \n2     RTRS  {'RET', 'ENR', 'ID', 'BG', 'US', 'PRESS', 'IQ'...   \n3     RTRS  {'FUND', 'FIN', 'CA', 'SFWR', 'INS', 'PUB', 'B...   \n4     RTRS  {'FUND', 'FIN', 'CA', 'SFWR', 'INS', 'PUB', 'B...   \n\n                                           audiences  bodySize  companyCount  \\\n0                                  {'Z', 'O', 'OIL'}      1438             1   \n1  {'PGE', 'PCO', 'G', 'ESN', 'MD', 'PCU', 'DNP',...      4413             1   \n2  {'T', 'DNP', 'PSC', 'U', 'D', 'M', 'RNP', 'PTD...      2108             2   \n3  {'T', 'DNP', 'PSC', 'U', 'D', 'M', 'RNP', 'PTD...      1776             6   \n4  {'T', 'DNP', 'PSC', 'U', 'D', 'M', 'RNP', 'PTD...      1776             6   \n\n    headlineTag  marketCommentary  sentenceCount  wordCount  \\\n0                           False             11        275   \n1       FEATURE             False             55        907   \n2  PRESS DIGEST             False             15        388   \n3  PRESS DIGEST             False             14        325   \n4  PRESS DIGEST             False             14        325   \n\n                                  assetCodes                        assetName  \\\n0  {'0857.HK', '0857.F', '0857.DE', 'PTR.N'}                PetroChina Co Ltd   \n1                                  {'STA.N'}          Travelers Companies Inc   \n2                        {'WMT.DE', 'WMT.N'}              Wal-Mart Stores Inc   \n3          {'GOOG.O', 'GOOG.OQ', 'GOOGa.DE'}                       Google Inc   \n4                                 {'XMSR.O'}  XM Satellite Radio Holdings Inc   \n\n   firstMentionSentence  relevance  sentimentClass  sentimentNegative  \\\n0                     6   0.235702              -1           0.500739   \n1                     8   0.447214              -1           0.600082   \n2                    14   0.377964              -1           0.450049   \n3                    13   0.149071              -1           0.752917   \n4                    11   0.149071              -1           0.699274   \n\n   sentimentNeutral  sentimentPositive  sentimentWordCount  noveltyCount12H  \\\n0          0.419327           0.079934                  73                0   \n1          0.345853           0.054064                  62                1   \n2          0.295671           0.254280                  67                0   \n3          0.162715           0.084368                  83                0   \n4          0.209360           0.091366                 102                0   \n\n   noveltyCount24H  noveltyCount3D  noveltyCount5D  noveltyCount7D  \\\n0                0               0               0               0   \n1                1               1               1               1   \n2                0               0               0               0   \n3                0               0               0               0   \n4                0               0               0               0   \n\n   volumeCounts12H  volumeCounts24H  volumeCounts3D  volumeCounts5D  \\\n0                0                0               3               6   \n1                1                1               3               3   \n2                0                0               5              11   \n3                0                0               5              13   \n4                0                0               0               0   \n\n   volumeCounts7D  \n0               7  \n1               3  \n2              17  \n3              15  \n4               0  ",
            "text/html": "<div>\n<style scoped>\n    .dataframe tbody tr th:only-of-type {\n        vertical-align: middle;\n    }\n\n    .dataframe tbody tr th {\n        vertical-align: top;\n    }\n\n    .dataframe thead th {\n        text-align: right;\n    }\n</style>\n<table border=\"1\" class=\"dataframe\">\n  <thead>\n    <tr style=\"text-align: right;\">\n      <th></th>\n      <th>time</th>\n      <th>sourceTimestamp</th>\n      <th>firstCreated</th>\n      <th>sourceId</th>\n      <th>headline</th>\n      <th>urgency</th>\n      <th>takeSequence</th>\n      <th>provider</th>\n      <th>subjects</th>\n      <th>audiences</th>\n      <th>bodySize</th>\n      <th>companyCount</th>\n      <th>headlineTag</th>\n      <th>marketCommentary</th>\n      <th>sentenceCount</th>\n      <th>wordCount</th>\n      <th>assetCodes</th>\n      <th>assetName</th>\n      <th>firstMentionSentence</th>\n      <th>relevance</th>\n      <th>sentimentClass</th>\n      <th>sentimentNegative</th>\n      <th>sentimentNeutral</th>\n      <th>sentimentPositive</th>\n      <th>sentimentWordCount</th>\n      <th>noveltyCount12H</th>\n      <th>noveltyCount24H</th>\n      <th>noveltyCount3D</th>\n      <th>noveltyCount5D</th>\n      <th>noveltyCount7D</th>\n      <th>volumeCounts12H</th>\n      <th>volumeCounts24H</th>\n      <th>volumeCounts3D</th>\n      <th>volumeCounts5D</th>\n      <th>volumeCounts7D</th>\n    </tr>\n  </thead>\n  <tbody>\n    <tr>\n      <th>0</th>\n      <td>2007-01-01 04:29:32+00:00</td>\n      <td>2007-01-01 04:29:32+00:00</td>\n      <td>2007-01-01 04:29:32+00:00</td>\n      <td>e58c6279551b85cf</td>\n      <td>China's Daqing pumps 43.41 mln tonnes of oil i...</td>\n      <td>3</td>\n      <td>1</td>\n      <td>RTRS</td>\n      <td>{'ENR', 'ASIA', 'CN', 'NGS', 'EMRG', 'RTRS', '...</td>\n      <td>{'Z', 'O', 'OIL'}</td>\n      <td>1438</td>\n      <td>1</td>\n      <td></td>\n      <td>False</td>\n      <td>11</td>\n      <td>275</td>\n      <td>{'0857.HK', '0857.F', '0857.DE', 'PTR.N'}</td>\n      <td>PetroChina Co Ltd</td>\n      <td>6</td>\n      <td>0.235702</td>\n      <td>-1</td>\n      <td>0.500739</td>\n      <td>0.419327</td>\n      <td>0.079934</td>\n      <td>73</td>\n      <td>0</td>\n      <td>0</td>\n      <td>0</td>\n      <td>0</td>\n      <td>0</td>\n      <td>0</td>\n      <td>0</td>\n      <td>3</td>\n      <td>6</td>\n      <td>7</td>\n    </tr>\n    <tr>\n      <th>1</th>\n      <td>2007-01-01 07:03:35+00:00</td>\n      <td>2007-01-01 07:03:34+00:00</td>\n      <td>2007-01-01 07:03:34+00:00</td>\n      <td>5a31c4327427f63f</td>\n      <td>FEATURE-In kidnapping, finesse works best</td>\n      <td>3</td>\n      <td>1</td>\n      <td>RTRS</td>\n      <td>{'FEA', 'CA', 'LATAM', 'MX', 'INS', 'ASIA', 'I...</td>\n      <td>{'PGE', 'PCO', 'G', 'ESN', 'MD', 'PCU', 'DNP',...</td>\n      <td>4413</td>\n      <td>1</td>\n      <td>FEATURE</td>\n      <td>False</td>\n      <td>55</td>\n      <td>907</td>\n      <td>{'STA.N'}</td>\n      <td>Travelers Companies Inc</td>\n      <td>8</td>\n      <td>0.447214</td>\n      <td>-1</td>\n      <td>0.600082</td>\n      <td>0.345853</td>\n      <td>0.054064</td>\n      <td>62</td>\n      <td>1</td>\n      <td>1</td>\n      <td>1</td>\n      <td>1</td>\n      <td>1</td>\n      <td>1</td>\n      <td>1</td>\n      <td>3</td>\n      <td>3</td>\n      <td>3</td>\n    </tr>\n    <tr>\n      <th>2</th>\n      <td>2007-01-01 11:29:56+00:00</td>\n      <td>2007-01-01 11:29:56+00:00</td>\n      <td>2007-01-01 11:29:56+00:00</td>\n      <td>1cefd27a40fabdfe</td>\n      <td>PRESS DIGEST - Wall Street Journal - Jan 1</td>\n      <td>3</td>\n      <td>1</td>\n      <td>RTRS</td>\n      <td>{'RET', 'ENR', 'ID', 'BG', 'US', 'PRESS', 'IQ'...</td>\n      <td>{'T', 'DNP', 'PSC', 'U', 'D', 'M', 'RNP', 'PTD...</td>\n      <td>2108</td>\n      <td>2</td>\n      <td>PRESS DIGEST</td>\n      <td>False</td>\n      <td>15</td>\n      <td>388</td>\n      <td>{'WMT.DE', 'WMT.N'}</td>\n      <td>Wal-Mart Stores Inc</td>\n      <td>14</td>\n      <td>0.377964</td>\n      <td>-1</td>\n      <td>0.450049</td>\n      <td>0.295671</td>\n      <td>0.254280</td>\n      <td>67</td>\n      <td>0</td>\n      <td>0</td>\n      <td>0</td>\n      <td>0</td>\n      <td>0</td>\n      <td>0</td>\n      <td>0</td>\n      <td>5</td>\n      <td>11</td>\n      <td>17</td>\n    </tr>\n    <tr>\n      <th>3</th>\n      <td>2007-01-01 12:08:37+00:00</td>\n      <td>2007-01-01 12:08:37+00:00</td>\n      <td>2007-01-01 12:08:37+00:00</td>\n      <td>23768af19dc69992</td>\n      <td>PRESS DIGEST - New York Times - Jan 1</td>\n      <td>3</td>\n      <td>1</td>\n      <td>RTRS</td>\n      <td>{'FUND', 'FIN', 'CA', 'SFWR', 'INS', 'PUB', 'B...</td>\n      <td>{'T', 'DNP', 'PSC', 'U', 'D', 'M', 'RNP', 'PTD...</td>\n      <td>1776</td>\n      <td>6</td>\n      <td>PRESS DIGEST</td>\n      <td>False</td>\n      <td>14</td>\n      <td>325</td>\n      <td>{'GOOG.O', 'GOOG.OQ', 'GOOGa.DE'}</td>\n      <td>Google Inc</td>\n      <td>13</td>\n      <td>0.149071</td>\n      <td>-1</td>\n      <td>0.752917</td>\n      <td>0.162715</td>\n      <td>0.084368</td>\n      <td>83</td>\n      <td>0</td>\n      <td>0</td>\n      <td>0</td>\n      <td>0</td>\n      <td>0</td>\n      <td>0</td>\n      <td>0</td>\n      <td>5</td>\n      <td>13</td>\n      <td>15</td>\n    </tr>\n    <tr>\n      <th>4</th>\n      <td>2007-01-01 12:08:37+00:00</td>\n      <td>2007-01-01 12:08:37+00:00</td>\n      <td>2007-01-01 12:08:37+00:00</td>\n      <td>23768af19dc69992</td>\n      <td>PRESS DIGEST - New York Times - Jan 1</td>\n      <td>3</td>\n      <td>1</td>\n      <td>RTRS</td>\n      <td>{'FUND', 'FIN', 'CA', 'SFWR', 'INS', 'PUB', 'B...</td>\n      <td>{'T', 'DNP', 'PSC', 'U', 'D', 'M', 'RNP', 'PTD...</td>\n      <td>1776</td>\n      <td>6</td>\n      <td>PRESS DIGEST</td>\n      <td>False</td>\n      <td>14</td>\n      <td>325</td>\n      <td>{'XMSR.O'}</td>\n      <td>XM Satellite Radio Holdings Inc</td>\n      <td>11</td>\n      <td>0.149071</td>\n      <td>-1</td>\n      <td>0.699274</td>\n      <td>0.209360</td>\n      <td>0.091366</td>\n      <td>102</td>\n      <td>0</td>\n      <td>0</td>\n      <td>0</td>\n      <td>0</td>\n      <td>0</td>\n      <td>0</td>\n      <td>0</td>\n      <td>0</td>\n      <td>0</td>\n      <td>0</td>\n    </tr>\n  </tbody>\n</table>\n</div>"
          },
          "metadata": {}
        }
      ]
    },
    {
      "metadata": {
        "scrolled": true,
        "trusted": true,
        "_uuid": "e080bb1d9cb34f635a423d73040e413fd2117ecc"
      },
      "cell_type": "code",
      "source": "news_col = [\"time\",\"urgency\",\"takeSequence\",\"companyCount\",\"sentenceCount\",\"wordCount\"\n            ,\"firstMentionSentence\",\"relevance\",\"sentimentClass\",\"sentimentNegative\",\"sentimentNeutral\",\n            \"sentimentPositive\",\"sentimentWordCount\",\"volumeCounts7D\",\"assetName\"]",
      "execution_count": 45,
      "outputs": []
    },
    {
      "metadata": {
        "trusted": true,
        "_uuid": "5ed2740a9262e157f53529a3f5dd3faf2da0be51"
      },
      "cell_type": "code",
      "source": "news_train_df = news_train_df[news_col]",
      "execution_count": 46,
      "outputs": []
    },
    {
      "metadata": {
        "trusted": true,
        "_uuid": "b97760e8f6b37b735cad9abaf460f3174919d034"
      },
      "cell_type": "code",
      "source": "# marge_df[\"headline1\"] = nwe_line_vec[:,0]\n# marge_df[\"headline2\"] = nwe_line_vec[:,1]",
      "execution_count": 47,
      "outputs": []
    },
    {
      "metadata": {
        "trusted": true,
        "_uuid": "dbffc2f2aeb2646dd88fb99cc4b839a34fadd5cf"
      },
      "cell_type": "code",
      "source": "import pandas.tseries.offsets as offsets",
      "execution_count": 48,
      "outputs": []
    },
    {
      "metadata": {
        "trusted": true,
        "_uuid": "dafdecdf0bb5661bc1dc8e1cc028378ccb14f988"
      },
      "cell_type": "code",
      "source": "times = pd.to_datetime(news_train_df['time'])",
      "execution_count": 49,
      "outputs": []
    },
    {
      "metadata": {
        "trusted": true,
        "_uuid": "7dccb2139523a9c00f73ecda825d0499a3f8c378"
      },
      "cell_type": "code",
      "source": "times = times+offsets.Hour(10)",
      "execution_count": 50,
      "outputs": []
    },
    {
      "metadata": {
        "trusted": true,
        "_uuid": "81ce5941084be115c7f8716b94b0e91f7b7952fa"
      },
      "cell_type": "code",
      "source": "times = times.astype(\"str\").str.split(expand=True)[0]",
      "execution_count": 51,
      "outputs": []
    },
    {
      "metadata": {
        "trusted": true,
        "_uuid": "f3e294e5c3b07196e9c8d4e1c859038a9cfc1932"
      },
      "cell_type": "code",
      "source": "news_train_df[\"time\"] = times  ",
      "execution_count": 52,
      "outputs": []
    },
    {
      "metadata": {
        "trusted": true,
        "_uuid": "7fa50fea5829a642b19e6d976cf7c14a0a2980e1"
      },
      "cell_type": "code",
      "source": "news_train_df.head()",
      "execution_count": 53,
      "outputs": [
        {
          "output_type": "execute_result",
          "execution_count": 53,
          "data": {
            "text/plain": "         time  urgency  takeSequence  companyCount  sentenceCount  wordCount  \\\n0  2007-01-01        3             1             1             11        275   \n1  2007-01-01        3             1             1             55        907   \n2  2007-01-01        3             1             2             15        388   \n3  2007-01-01        3             1             6             14        325   \n4  2007-01-01        3             1             6             14        325   \n\n   firstMentionSentence  relevance  sentimentClass  sentimentNegative  \\\n0                     6   0.235702              -1           0.500739   \n1                     8   0.447214              -1           0.600082   \n2                    14   0.377964              -1           0.450049   \n3                    13   0.149071              -1           0.752917   \n4                    11   0.149071              -1           0.699274   \n\n   sentimentNeutral  sentimentPositive  sentimentWordCount  volumeCounts7D  \\\n0          0.419327           0.079934                  73               7   \n1          0.345853           0.054064                  62               3   \n2          0.295671           0.254280                  67              17   \n3          0.162715           0.084368                  83              15   \n4          0.209360           0.091366                 102               0   \n\n                         assetName  \n0                PetroChina Co Ltd  \n1          Travelers Companies Inc  \n2              Wal-Mart Stores Inc  \n3                       Google Inc  \n4  XM Satellite Radio Holdings Inc  ",
            "text/html": "<div>\n<style scoped>\n    .dataframe tbody tr th:only-of-type {\n        vertical-align: middle;\n    }\n\n    .dataframe tbody tr th {\n        vertical-align: top;\n    }\n\n    .dataframe thead th {\n        text-align: right;\n    }\n</style>\n<table border=\"1\" class=\"dataframe\">\n  <thead>\n    <tr style=\"text-align: right;\">\n      <th></th>\n      <th>time</th>\n      <th>urgency</th>\n      <th>takeSequence</th>\n      <th>companyCount</th>\n      <th>sentenceCount</th>\n      <th>wordCount</th>\n      <th>firstMentionSentence</th>\n      <th>relevance</th>\n      <th>sentimentClass</th>\n      <th>sentimentNegative</th>\n      <th>sentimentNeutral</th>\n      <th>sentimentPositive</th>\n      <th>sentimentWordCount</th>\n      <th>volumeCounts7D</th>\n      <th>assetName</th>\n    </tr>\n  </thead>\n  <tbody>\n    <tr>\n      <th>0</th>\n      <td>2007-01-01</td>\n      <td>3</td>\n      <td>1</td>\n      <td>1</td>\n      <td>11</td>\n      <td>275</td>\n      <td>6</td>\n      <td>0.235702</td>\n      <td>-1</td>\n      <td>0.500739</td>\n      <td>0.419327</td>\n      <td>0.079934</td>\n      <td>73</td>\n      <td>7</td>\n      <td>PetroChina Co Ltd</td>\n    </tr>\n    <tr>\n      <th>1</th>\n      <td>2007-01-01</td>\n      <td>3</td>\n      <td>1</td>\n      <td>1</td>\n      <td>55</td>\n      <td>907</td>\n      <td>8</td>\n      <td>0.447214</td>\n      <td>-1</td>\n      <td>0.600082</td>\n      <td>0.345853</td>\n      <td>0.054064</td>\n      <td>62</td>\n      <td>3</td>\n      <td>Travelers Companies Inc</td>\n    </tr>\n    <tr>\n      <th>2</th>\n      <td>2007-01-01</td>\n      <td>3</td>\n      <td>1</td>\n      <td>2</td>\n      <td>15</td>\n      <td>388</td>\n      <td>14</td>\n      <td>0.377964</td>\n      <td>-1</td>\n      <td>0.450049</td>\n      <td>0.295671</td>\n      <td>0.254280</td>\n      <td>67</td>\n      <td>17</td>\n      <td>Wal-Mart Stores Inc</td>\n    </tr>\n    <tr>\n      <th>3</th>\n      <td>2007-01-01</td>\n      <td>3</td>\n      <td>1</td>\n      <td>6</td>\n      <td>14</td>\n      <td>325</td>\n      <td>13</td>\n      <td>0.149071</td>\n      <td>-1</td>\n      <td>0.752917</td>\n      <td>0.162715</td>\n      <td>0.084368</td>\n      <td>83</td>\n      <td>15</td>\n      <td>Google Inc</td>\n    </tr>\n    <tr>\n      <th>4</th>\n      <td>2007-01-01</td>\n      <td>3</td>\n      <td>1</td>\n      <td>6</td>\n      <td>14</td>\n      <td>325</td>\n      <td>11</td>\n      <td>0.149071</td>\n      <td>-1</td>\n      <td>0.699274</td>\n      <td>0.209360</td>\n      <td>0.091366</td>\n      <td>102</td>\n      <td>0</td>\n      <td>XM Satellite Radio Holdings Inc</td>\n    </tr>\n  </tbody>\n</table>\n</div>"
          },
          "metadata": {}
        }
      ]
    },
    {
      "metadata": {
        "trusted": true,
        "_uuid": "61aa94f61f5828a18e32453fc2fb2ddc2fed49a0"
      },
      "cell_type": "code",
      "source": "del times",
      "execution_count": 54,
      "outputs": []
    },
    {
      "metadata": {
        "trusted": true,
        "_uuid": "5174582abb4369a8ae8470cd2e71df14b56764eb"
      },
      "cell_type": "code",
      "source": "news_train_df = news_train_df.groupby([\"time\",\"assetName\"],as_index=False,observed=True).mean()",
      "execution_count": 55,
      "outputs": []
    },
    {
      "metadata": {
        "trusted": true,
        "_uuid": "803ff94340d287c84730c70ec15ce8c5668eaaeb"
      },
      "cell_type": "code",
      "source": "data_train_df[\"time\"] = data_train_df.time.astype(\"str\").str.split(expand=True)[0]",
      "execution_count": 56,
      "outputs": []
    },
    {
      "metadata": {
        "trusted": true,
        "_uuid": "5ff26f306eb2a419c5233abd774a2b32ea79989d"
      },
      "cell_type": "code",
      "source": "data_train_df = pd.merge(data_train_df,news_train_df,on=[\"assetName\",\"time\"],how=\"left\")",
      "execution_count": 57,
      "outputs": []
    },
    {
      "metadata": {
        "trusted": true,
        "_uuid": "2a55ad15bfd19ecc26fd8a349003b1a00002abe2"
      },
      "cell_type": "code",
      "source": "market_train = data_train_df",
      "execution_count": 58,
      "outputs": []
    },
    {
      "metadata": {
        "trusted": true,
        "_uuid": "c9929f675ed5f476f12eeb6e4ccb8faf6182dc57"
      },
      "cell_type": "code",
      "source": "market_train[\"time\"] = pd.to_datetime(market_train['time'])",
      "execution_count": 59,
      "outputs": []
    },
    {
      "metadata": {
        "trusted": true,
        "_uuid": "e864f0c84f2c39d680e21ec8b96b7ef77cf10f30"
      },
      "cell_type": "code",
      "source": "del data_train_df",
      "execution_count": 60,
      "outputs": []
    },
    {
      "metadata": {
        "trusted": true,
        "_uuid": "a8755878ed575af8b226f8638d5376072cbd2ee6"
      },
      "cell_type": "code",
      "source": "import gc\n\ngc.collect()",
      "execution_count": 61,
      "outputs": [
        {
          "output_type": "execute_result",
          "execution_count": 61,
          "data": {
            "text/plain": "46"
          },
          "metadata": {}
        }
      ]
    },
    {
      "metadata": {
        "trusted": true,
        "_uuid": "ef7febdc14b472dc2fe0782d21be065d4f3ee01e"
      },
      "cell_type": "code",
      "source": "market_train.head()",
      "execution_count": 62,
      "outputs": [
        {
          "output_type": "execute_result",
          "execution_count": 62,
          "data": {
            "text/plain": "        time assetCode                 assetName      volume  close   open  \\\n0 2007-02-01       A.N  Agilent Technologies Inc   2606900.0  32.19  32.17   \n1 2007-02-01     AAI.N      AirTran Holdings Inc   2051600.0  11.12  11.08   \n2 2007-02-01     AAP.N    Advance Auto Parts Inc   1164800.0  37.51  37.99   \n3 2007-02-01    AAPL.O                 Apple Inc  23747329.0  84.74  86.23   \n4 2007-02-01     ABB.N                   ABB Ltd   1208600.0  18.02  18.01   \n\n   returnsClosePrevRaw1  returnsOpenPrevRaw1  returnsClosePrevMktres1  \\\n0              0.005938             0.005312                      NaN   \n1              0.004517            -0.007168                      NaN   \n2             -0.011594             0.025648                      NaN   \n3             -0.011548             0.016324                      NaN   \n4              0.011791             0.025043                      NaN   \n\n   returnsOpenPrevMktres1  returnsClosePrevRaw10  returnsOpenPrevRaw10  \\\n0                     NaN              -0.001860              0.000622   \n1                     NaN              -0.078708             -0.088066   \n2                     NaN               0.014332              0.045405   \n3                     NaN              -0.048613             -0.037182   \n4                     NaN               0.012929              0.020397   \n\n   returnsClosePrevMktres10  returnsOpenPrevMktres10  returnsOpenNextMktres10  \\\n0                       NaN                      NaN                 0.034672   \n1                       NaN                      NaN                 0.027803   \n2                       NaN                      NaN                 0.024433   \n3                       NaN                      NaN                -0.007425   \n4                       NaN                      NaN                -0.017994   \n\n   universe    oc           sell   urgency  takeSequence  companyCount  \\\n0       1.0 -0.02   80984.777881  3.000000      1.000000      1.000000   \n1       0.0 -0.04  184496.402878  1.857143      1.857143      2.142857   \n2       1.0  0.48   31053.052519       NaN           NaN           NaN   \n3       1.0  1.49  280237.538353  3.000000      1.000000      1.000000   \n4       1.0 -0.01   67069.922309  3.000000      1.000000      2.000000   \n\n   sentenceCount    wordCount  firstMentionSentence  relevance  \\\n0           32.0   859.000000                   1.0   1.000000   \n1           17.0   523.714286                   1.0   1.000000   \n2            NaN          NaN                   NaN        NaN   \n3           66.0  1242.000000                   1.0   1.000000   \n4            7.0   112.000000                   6.0   0.447214   \n\n   sentimentClass  sentimentNegative  sentimentNeutral  sentimentPositive  \\\n0        1.000000           0.043356          0.130069           0.826575   \n1        0.571429           0.055924          0.460296           0.483780   \n2             NaN                NaN               NaN                NaN   \n3       -1.000000           0.815723          0.127239           0.057038   \n4        0.000000           0.016462          0.861472           0.122067   \n\n   sentimentWordCount  volumeCounts7D  \n0               859.0             6.0  \n1               416.0            39.0  \n2                 NaN             NaN  \n3               116.0            42.0  \n4                60.0             4.0  ",
            "text/html": "<div>\n<style scoped>\n    .dataframe tbody tr th:only-of-type {\n        vertical-align: middle;\n    }\n\n    .dataframe tbody tr th {\n        vertical-align: top;\n    }\n\n    .dataframe thead th {\n        text-align: right;\n    }\n</style>\n<table border=\"1\" class=\"dataframe\">\n  <thead>\n    <tr style=\"text-align: right;\">\n      <th></th>\n      <th>time</th>\n      <th>assetCode</th>\n      <th>assetName</th>\n      <th>volume</th>\n      <th>close</th>\n      <th>open</th>\n      <th>returnsClosePrevRaw1</th>\n      <th>returnsOpenPrevRaw1</th>\n      <th>returnsClosePrevMktres1</th>\n      <th>returnsOpenPrevMktres1</th>\n      <th>returnsClosePrevRaw10</th>\n      <th>returnsOpenPrevRaw10</th>\n      <th>returnsClosePrevMktres10</th>\n      <th>returnsOpenPrevMktres10</th>\n      <th>returnsOpenNextMktres10</th>\n      <th>universe</th>\n      <th>oc</th>\n      <th>sell</th>\n      <th>urgency</th>\n      <th>takeSequence</th>\n      <th>companyCount</th>\n      <th>sentenceCount</th>\n      <th>wordCount</th>\n      <th>firstMentionSentence</th>\n      <th>relevance</th>\n      <th>sentimentClass</th>\n      <th>sentimentNegative</th>\n      <th>sentimentNeutral</th>\n      <th>sentimentPositive</th>\n      <th>sentimentWordCount</th>\n      <th>volumeCounts7D</th>\n    </tr>\n  </thead>\n  <tbody>\n    <tr>\n      <th>0</th>\n      <td>2007-02-01</td>\n      <td>A.N</td>\n      <td>Agilent Technologies Inc</td>\n      <td>2606900.0</td>\n      <td>32.19</td>\n      <td>32.17</td>\n      <td>0.005938</td>\n      <td>0.005312</td>\n      <td>NaN</td>\n      <td>NaN</td>\n      <td>-0.001860</td>\n      <td>0.000622</td>\n      <td>NaN</td>\n      <td>NaN</td>\n      <td>0.034672</td>\n      <td>1.0</td>\n      <td>-0.02</td>\n      <td>80984.777881</td>\n      <td>3.000000</td>\n      <td>1.000000</td>\n      <td>1.000000</td>\n      <td>32.0</td>\n      <td>859.000000</td>\n      <td>1.0</td>\n      <td>1.000000</td>\n      <td>1.000000</td>\n      <td>0.043356</td>\n      <td>0.130069</td>\n      <td>0.826575</td>\n      <td>859.0</td>\n      <td>6.0</td>\n    </tr>\n    <tr>\n      <th>1</th>\n      <td>2007-02-01</td>\n      <td>AAI.N</td>\n      <td>AirTran Holdings Inc</td>\n      <td>2051600.0</td>\n      <td>11.12</td>\n      <td>11.08</td>\n      <td>0.004517</td>\n      <td>-0.007168</td>\n      <td>NaN</td>\n      <td>NaN</td>\n      <td>-0.078708</td>\n      <td>-0.088066</td>\n      <td>NaN</td>\n      <td>NaN</td>\n      <td>0.027803</td>\n      <td>0.0</td>\n      <td>-0.04</td>\n      <td>184496.402878</td>\n      <td>1.857143</td>\n      <td>1.857143</td>\n      <td>2.142857</td>\n      <td>17.0</td>\n      <td>523.714286</td>\n      <td>1.0</td>\n      <td>1.000000</td>\n      <td>0.571429</td>\n      <td>0.055924</td>\n      <td>0.460296</td>\n      <td>0.483780</td>\n      <td>416.0</td>\n      <td>39.0</td>\n    </tr>\n    <tr>\n      <th>2</th>\n      <td>2007-02-01</td>\n      <td>AAP.N</td>\n      <td>Advance Auto Parts Inc</td>\n      <td>1164800.0</td>\n      <td>37.51</td>\n      <td>37.99</td>\n      <td>-0.011594</td>\n      <td>0.025648</td>\n      <td>NaN</td>\n      <td>NaN</td>\n      <td>0.014332</td>\n      <td>0.045405</td>\n      <td>NaN</td>\n      <td>NaN</td>\n      <td>0.024433</td>\n      <td>1.0</td>\n      <td>0.48</td>\n      <td>31053.052519</td>\n      <td>NaN</td>\n      <td>NaN</td>\n      <td>NaN</td>\n      <td>NaN</td>\n      <td>NaN</td>\n      <td>NaN</td>\n      <td>NaN</td>\n      <td>NaN</td>\n      <td>NaN</td>\n      <td>NaN</td>\n      <td>NaN</td>\n      <td>NaN</td>\n      <td>NaN</td>\n    </tr>\n    <tr>\n      <th>3</th>\n      <td>2007-02-01</td>\n      <td>AAPL.O</td>\n      <td>Apple Inc</td>\n      <td>23747329.0</td>\n      <td>84.74</td>\n      <td>86.23</td>\n      <td>-0.011548</td>\n      <td>0.016324</td>\n      <td>NaN</td>\n      <td>NaN</td>\n      <td>-0.048613</td>\n      <td>-0.037182</td>\n      <td>NaN</td>\n      <td>NaN</td>\n      <td>-0.007425</td>\n      <td>1.0</td>\n      <td>1.49</td>\n      <td>280237.538353</td>\n      <td>3.000000</td>\n      <td>1.000000</td>\n      <td>1.000000</td>\n      <td>66.0</td>\n      <td>1242.000000</td>\n      <td>1.0</td>\n      <td>1.000000</td>\n      <td>-1.000000</td>\n      <td>0.815723</td>\n      <td>0.127239</td>\n      <td>0.057038</td>\n      <td>116.0</td>\n      <td>42.0</td>\n    </tr>\n    <tr>\n      <th>4</th>\n      <td>2007-02-01</td>\n      <td>ABB.N</td>\n      <td>ABB Ltd</td>\n      <td>1208600.0</td>\n      <td>18.02</td>\n      <td>18.01</td>\n      <td>0.011791</td>\n      <td>0.025043</td>\n      <td>NaN</td>\n      <td>NaN</td>\n      <td>0.012929</td>\n      <td>0.020397</td>\n      <td>NaN</td>\n      <td>NaN</td>\n      <td>-0.017994</td>\n      <td>1.0</td>\n      <td>-0.01</td>\n      <td>67069.922309</td>\n      <td>3.000000</td>\n      <td>1.000000</td>\n      <td>2.000000</td>\n      <td>7.0</td>\n      <td>112.000000</td>\n      <td>6.0</td>\n      <td>0.447214</td>\n      <td>0.000000</td>\n      <td>0.016462</td>\n      <td>0.861472</td>\n      <td>0.122067</td>\n      <td>60.0</td>\n      <td>4.0</td>\n    </tr>\n  </tbody>\n</table>\n</div>"
          },
          "metadata": {}
        }
      ]
    },
    {
      "metadata": {
        "trusted": true,
        "_uuid": "575d46247973375776a1136fc296d6ec8ca7ebc8"
      },
      "cell_type": "code",
      "source": "market_train.shape",
      "execution_count": 63,
      "outputs": [
        {
          "output_type": "execute_result",
          "execution_count": 63,
          "data": {
            "text/plain": "(4072956, 31)"
          },
          "metadata": {}
        }
      ]
    },
    {
      "metadata": {
        "trusted": true,
        "_uuid": "12ff21f85c4758ef6b8e712e55b59b4934146d66"
      },
      "cell_type": "code",
      "source": "del news_train_df",
      "execution_count": 64,
      "outputs": []
    },
    {
      "metadata": {
        "trusted": true,
        "_uuid": "8ed322908c68b07eeea8cb3fcc091435ca9da693"
      },
      "cell_type": "code",
      "source": "def print_varsize():\n    import types\n    print(\"{}{: >15}{}{: >10}{}\".format('|','Variable Name','|','  Size','|'))\n    print(\" -------------------------- \")\n    for k, v in globals().items():\n        if hasattr(v, 'size') and not k.startswith('_') and not isinstance(v,types.ModuleType):\n            print(\"{}{: >15}{}{: >10}{}\".format('|',k,'|',str(v.size),'|'))\n        elif hasattr(v, '__len__') and not k.startswith('_') and not isinstance(v,types.ModuleType):\n            print(\"{}{: >15}{}{: >10}{}\".format('|',k,'|',str(len(v)),'|'))",
      "execution_count": 65,
      "outputs": []
    },
    {
      "metadata": {
        "trusted": true,
        "_uuid": "bfb1f9be5ee819273bfbfc540d1217106fce2b8c"
      },
      "cell_type": "code",
      "source": "print_varsize()",
      "execution_count": 66,
      "outputs": [
        {
          "output_type": "stream",
          "text": "|  Variable Name|      Size|\n -------------------------- \n|             In|        67|\n|            Out|        13|\n|       news_col|        15|\n|   market_train| 126261636|\n",
          "name": "stdout"
        }
      ]
    },
    {
      "metadata": {
        "trusted": true,
        "_uuid": "c04cf78bb9b89cef1ab2ccf14267be674b3c9ad4"
      },
      "cell_type": "code",
      "source": "cat_cols = ['assetCode']\nnum_cols = ['volume', 'close', 'open', 'returnsClosePrevRaw1', 'returnsOpenPrevRaw1', 'returnsClosePrevMktres1',\n                    'returnsOpenPrevMktres1', 'returnsClosePrevRaw10', 'returnsOpenPrevRaw10', 'returnsClosePrevMktres10',\n                    'returnsOpenPrevMktres10',\"urgency\",\"takeSequence\",\"companyCount\",\"sentenceCount\",\"wordCount\",\n            \"firstMentionSentence\",\"relevance\",\"sentimentClass\",\"sentimentNegative\",\"sentimentNeutral\",\"sentimentPositive\",\n            \"sentimentWordCount\",\"volumeCounts7D\",\"oc\",\"sell\"]",
      "execution_count": 67,
      "outputs": []
    },
    {
      "metadata": {
        "trusted": true,
        "_uuid": "0f4b9b2bab7f76e2e658d54128878c730ee9e343"
      },
      "cell_type": "code",
      "source": "from sklearn.model_selection import train_test_split\n\ntrain_indices, val_indices = train_test_split(market_train.index.values,test_size=0.25, random_state=23)",
      "execution_count": 68,
      "outputs": []
    },
    {
      "metadata": {
        "trusted": true,
        "_uuid": "96fbea481c5140bf1adbaca13c1003228b0b05bd"
      },
      "cell_type": "code",
      "source": "def encode(encoder, x):\n    len_encoder = len(encoder)\n    try:\n        id = encoder[x]\n    except KeyError:\n        id = len_encoder\n    return id\n\nencoders = [{} for cat in cat_cols]\n\n\nfor i, cat in enumerate(cat_cols):\n    print('encoding %s ...' % cat, end=' ')\n    encoders[i] = {l: id for id, l in enumerate(market_train.loc[train_indices, cat].astype(str).unique())}\n    market_train[cat] = market_train[cat].astype(str).apply(lambda x: encode(encoders[i], x))\n    print('Done')\n\nembed_sizes = [len(encoder) + 1 for encoder in encoders] #+1 for possible unknown assets\n",
      "execution_count": 69,
      "outputs": [
        {
          "output_type": "stream",
          "text": "encoding assetCode ... Done\n",
          "name": "stdout"
        }
      ]
    },
    {
      "metadata": {
        "trusted": true,
        "_uuid": "7dccf995773e6039faceead4d8946333325f2c42"
      },
      "cell_type": "code",
      "source": "from sklearn.preprocessing import StandardScaler\n \nmarket_train[num_cols] = market_train[num_cols].fillna(market_train[num_cols].mean())\nprint('scaling numerical columns')\n\nscaler = StandardScaler()\n\n#col_mean = market_train[col].mean()\n#market_train[col].fillna(col_mean, inplace=True)\nscaler = StandardScaler()\nmarket_train[num_cols] = scaler.fit_transform(market_train[num_cols])\n",
      "execution_count": 70,
      "outputs": [
        {
          "output_type": "stream",
          "text": "scaling numerical columns\n",
          "name": "stdout"
        }
      ]
    },
    {
      "metadata": {
        "trusted": true,
        "_uuid": "76a5a6485464d8743ed7975a19f18714e2f7f11e"
      },
      "cell_type": "code",
      "source": "gc.collect()",
      "execution_count": 71,
      "outputs": [
        {
          "output_type": "execute_result",
          "execution_count": 71,
          "data": {
            "text/plain": "21"
          },
          "metadata": {}
        }
      ]
    },
    {
      "metadata": {
        "trusted": true,
        "_uuid": "81c6c0757514f75fed81edca940bda9d23685bb6"
      },
      "cell_type": "code",
      "source": "def get_input(market_train, indices):\n    X_num = market_train.loc[indices, num_cols].values\n    X = {'num':X_num}\n    for cat in cat_cols:\n        X[cat] = market_train.loc[indices, cat_cols].values\n    y = (market_train.loc[indices,'returnsOpenNextMktres10'] >= 0).values\n    r = market_train.loc[indices,'returnsOpenNextMktres10'].values\n    u = market_train.loc[indices, 'universe']\n    d = market_train.loc[indices, 'time'].dt.date\n    return X,y,r,u,d\n\n# r, u and d are used to calculate the scoring metric\nX_train,y_train,r_train,u_train,d_train = get_input(market_train, train_indices)\nX_valid,y_valid,r_valid,u_valid,d_valid = get_input(market_train, val_indices)\n",
      "execution_count": 72,
      "outputs": []
    },
    {
      "metadata": {
        "trusted": true,
        "_uuid": "598420b958ef1f4e52fe4aebb4a3a838328e9eae"
      },
      "cell_type": "code",
      "source": "from sklearn.metrics import accuracy_score",
      "execution_count": 73,
      "outputs": []
    },
    {
      "metadata": {
        "trusted": true,
        "_uuid": "c5dbb7fe2caf48523775514889464bb43ebc9592"
      },
      "cell_type": "code",
      "source": "del market_train",
      "execution_count": 74,
      "outputs": []
    },
    {
      "metadata": {
        "trusted": true,
        "_uuid": "427c6002eb040084bbea25eb5d8fe00f202fff75"
      },
      "cell_type": "code",
      "source": "import warnings\nwarnings.filterwarnings(action ='ignore',category = DeprecationWarning)\nfrom xgboost import XGBClassifier\nfrom lightgbm import LGBMClassifier\nfrom catboost import CatBoostClassifier\n\nfrom functools import partial\nfrom hyperopt import hp, fmin, tpe\nalgo = partial(tpe.suggest, n_startup_jobs=10)\ndef auto_turing(args):\n    model = XGBClassifier(n_jobs = 4, n_estimators = args['n_estimators'],max_depth=6)\n    model.fit(X_train['num'],y_train.astype(int))\n    confidence_valid = model.predict(X_valid['num'])*2 -1\n    score = accuracy_score(confidence_valid>0,y_valid)\n    print(args,score)\n    return -score\n# space = {\"n_estimators\":hp.choice(\"n_estimators\",range(10,50))}\n# print(fmin)\n# best = fmin(auto_turing, space, algo=algo,max_evals=30)\n# print(best)\n\nmodel = XGBClassifier(n_jobs = 4, n_estimators = 38,max_depth=6)\nmodel1 = LGBMClassifier(n_jobs = 4, n_estimators = 38,max_depth=6)\nmodel2 = CatBoostClassifier(depth=6,n_estimators=38)\n\nmodel.fit(X_train['num'],y_train.astype(int),verbose=1)\nmodel1.fit(X_train['num'],y_train.astype(int),verbose=1)\nmodel2.fit(X_train['num'],y_train.astype(int),verbose=1)\n\nconfidence_valid = model.predict(X_valid['num'])*2 -1\nconfidence_valid1 = model1.predict(X_valid['num'])*2 -1\nconfidence_valid2 = model2.predict(X_valid['num'])*2 -1\n\n\nconfidence_valid = (confidence_valid + confidence_valid1 + confidence_valid2)/3\nconfidence_valid[confidence_valid > 0] = 1.0\nconfidence_valid[confidence_valid < 0] = -1.0\n\nscore = accuracy_score(confidence_valid>0,y_valid)\nprint(score)\n",
      "execution_count": 75,
      "outputs": [
        {
          "output_type": "stream",
          "text": "0:\tlearn: 0.6897693\ttotal: 846ms\tremaining: 31.3s\n1:\tlearn: 0.6886885\ttotal: 1.65s\tremaining: 29.7s\n2:\tlearn: 0.6882292\ttotal: 2.35s\tremaining: 27.4s\n3:\tlearn: 0.6879318\ttotal: 3.08s\tremaining: 26.2s\n4:\tlearn: 0.6877662\ttotal: 3.76s\tremaining: 24.8s\n5:\tlearn: 0.6876393\ttotal: 4.45s\tremaining: 23.7s\n6:\tlearn: 0.6875261\ttotal: 5.18s\tremaining: 22.9s\n7:\tlearn: 0.6874331\ttotal: 5.82s\tremaining: 21.8s\n8:\tlearn: 0.6873856\ttotal: 6.46s\tremaining: 20.8s\n9:\tlearn: 0.6873211\ttotal: 7.19s\tremaining: 20.1s\n10:\tlearn: 0.6872544\ttotal: 7.91s\tremaining: 19.4s\n11:\tlearn: 0.6871986\ttotal: 8.71s\tremaining: 18.9s\n12:\tlearn: 0.6871517\ttotal: 9.46s\tremaining: 18.2s\n13:\tlearn: 0.6871040\ttotal: 10.2s\tremaining: 17.5s\n14:\tlearn: 0.6870572\ttotal: 10.9s\tremaining: 16.7s\n15:\tlearn: 0.6870212\ttotal: 11.6s\tremaining: 15.9s\n16:\tlearn: 0.6869787\ttotal: 12.3s\tremaining: 15.1s\n17:\tlearn: 0.6869224\ttotal: 13s\tremaining: 14.4s\n18:\tlearn: 0.6868800\ttotal: 13.8s\tremaining: 13.8s\n19:\tlearn: 0.6868450\ttotal: 14.4s\tremaining: 13s\n20:\tlearn: 0.6868253\ttotal: 15s\tremaining: 12.2s\n21:\tlearn: 0.6867986\ttotal: 15.7s\tremaining: 11.4s\n22:\tlearn: 0.6867638\ttotal: 16.4s\tremaining: 10.7s\n23:\tlearn: 0.6867329\ttotal: 17.1s\tremaining: 9.95s\n24:\tlearn: 0.6867046\ttotal: 17.8s\tremaining: 9.25s\n25:\tlearn: 0.6866521\ttotal: 18.6s\tremaining: 8.57s\n26:\tlearn: 0.6866078\ttotal: 19.2s\tremaining: 7.84s\n27:\tlearn: 0.6865811\ttotal: 19.9s\tremaining: 7.1s\n28:\tlearn: 0.6865546\ttotal: 20.6s\tremaining: 6.39s\n29:\tlearn: 0.6865305\ttotal: 21.3s\tremaining: 5.67s\n30:\tlearn: 0.6865006\ttotal: 22s\tremaining: 4.96s\n31:\tlearn: 0.6864781\ttotal: 22.7s\tremaining: 4.25s\n32:\tlearn: 0.6864441\ttotal: 23.4s\tremaining: 3.54s\n33:\tlearn: 0.6864246\ttotal: 24.1s\tremaining: 2.83s\n34:\tlearn: 0.6864101\ttotal: 24.8s\tremaining: 2.12s\n35:\tlearn: 0.6863935\ttotal: 25.4s\tremaining: 1.41s\n36:\tlearn: 0.6863681\ttotal: 26.1s\tremaining: 706ms\n37:\tlearn: 0.6863480\ttotal: 26.8s\tremaining: 0us\n0.5457225661165993\n",
          "name": "stdout"
        }
      ]
    },
    {
      "metadata": {
        "trusted": true,
        "_uuid": "b526b32b4979f7fcf6e5fa8f7c2ce8bce3f49634"
      },
      "cell_type": "code",
      "source": "# calculation of actual metric that is used to calculate final score\nr_valid = r_valid.clip(-1,1) # get rid of outliers. Where do they come from??\nx_t_i = confidence_valid * r_valid * u_valid\ndata = {'day' : d_valid, 'x_t_i' : x_t_i}\ndf = pd.DataFrame(data)\nx_t = df.groupby('day').sum().values.flatten()\nmean = np.mean(x_t)\nstd = np.std(x_t)\nscore_valid = mean / std\nprint(score_valid)",
      "execution_count": 76,
      "outputs": [
        {
          "output_type": "stream",
          "text": "0.494088510791375\n",
          "name": "stdout"
        }
      ]
    },
    {
      "metadata": {
        "trusted": true,
        "_uuid": "a91fd86e0063bc4522873595ea492013d357d480"
      },
      "cell_type": "code",
      "source": "days = env.get_prediction_days()",
      "execution_count": 77,
      "outputs": []
    },
    {
      "metadata": {
        "trusted": true,
        "_uuid": "3ea574f93a2001540c3f3123ef4cc916f08e72d8"
      },
      "cell_type": "code",
      "source": "import time",
      "execution_count": 78,
      "outputs": []
    },
    {
      "metadata": {
        "trusted": true,
        "_uuid": "a65ce26e87df62f4d14f9f40e4c46a83fa73afaa"
      },
      "cell_type": "code",
      "source": "n_days = 0\nprep_time = 0\nprediction_time = 0\npackaging_time = 0\npredicted_confidences = np.array([])\nfor (market_obs_df, news_obs_df, predictions_template_df) in days:\n    n_days +=1\n    print(n_days,end=' ')\n    news_obs_df =  news_obs_df[news_col]\n    times = pd.to_datetime(news_obs_df['time'])\n    times = times+offsets.Hour(10)\n    times = times.astype(\"str\").str.split(expand=True)[0]\n    news_obs_df[\"time\"] = times  \n    news_obs_df = news_obs_df.groupby([\"time\",\"assetName\"],as_index=False,observed=True).mean()\n    market_obs_df[\"time\"] = market_obs_df.time.astype(\"str\").str.split(expand=True)[0]\n    market_obs_df = pd.merge(market_obs_df,news_obs_df,on=[\"assetName\",\"time\"],how=\"left\")\n    market_obs_df[\"time\"] = pd.to_datetime(market_obs_df['time'])\n    market_obs_df[\"oc\"] =market_obs_df.open - market_obs_df.close\n    market_obs_df[\"sell\"] = market_obs_df.volume/market_obs_df.close\n    \n    \n    t = time.time()\n\n    market_obs_df['assetCode_encoded'] = market_obs_df[cat].astype(str).apply(lambda x: encode(encoders[i], x))\n\n    market_obs_df[num_cols] = market_obs_df[num_cols].fillna(market_obs_df[num_cols].mean())\n    market_obs_df[num_cols] = scaler.transform(market_obs_df[num_cols])\n    X_num_test = market_obs_df[num_cols].values\n    X_test = {'num':X_num_test}\n    X_test['assetCode'] = market_obs_df['assetCode_encoded'].values\n    \n    prep_time += time.time() - t\n    t = time.time()\n    market_prediction = model.predict(X_test['num'])*2 -1\n    market_prediction1 = model1.predict(X_test['num'])*2 -1\n    market_prediction2 = model2.predict(X_test['num'])*2 -1\n    \n    market_prediction = (market_prediction + market_prediction1 + market_prediction2)/3\n    market_prediction[market_prediction > 0] = 1.0\n    market_prediction[market_prediction < 0] = -1.0\n    \n    #print(type(market_prediction))\n    #print(type(predicted_confidences))\n    predicted_confidences = np.concatenate((predicted_confidences, market_prediction))\n    prediction_time += time.time() -t\n    \n    t = time.time()\n    preds = pd.DataFrame({'assetCode':market_obs_df['assetCode'],'confidence':market_prediction})\n    # insert predictions to template\n    predictions_template_df = predictions_template_df.merge(preds,how='left').drop('confidenceValue',axis=1).fillna(predictions_template_df.mean()).rename(columns={'confidence':'confidenceValue'})\n    env.predict(predictions_template_df)\n    packaging_time += time.time() - t\n\nenv.write_submission_file()\ntotal = prep_time + prediction_time + packaging_time\nprint(f'Preparing Data: {prep_time:.2f}s')\nprint(f'Making Predictions: {prediction_time:.2f}s')\nprint(f'Packing: {packaging_time:.2f}s')\nprint(f'Total: {total:.2f}s')",
      "execution_count": 79,
      "outputs": [
        {
          "output_type": "stream",
          "text": "1 ",
          "name": "stdout"
        },
        {
          "output_type": "stream",
          "text": "/opt/conda/lib/python3.6/site-packages/ipykernel_launcher.py:13: SettingWithCopyWarning: \nA value is trying to be set on a copy of a slice from a DataFrame.\nTry using .loc[row_indexer,col_indexer] = value instead\n\nSee the caveats in the documentation: http://pandas.pydata.org/pandas-docs/stable/indexing.html#indexing-view-versus-copy\n  del sys.path[0]\n",
          "name": "stderr"
        },
        {
          "output_type": "stream",
          "text": "2 3 4 5 6 7 8 9 10 11 12 13 14 15 16 17 18 19 20 21 22 23 24 25 26 27 28 29 30 31 32 33 34 35 36 37 38 39 40 41 42 43 44 45 46 47 48 49 50 51 52 53 54 55 56 57 58 59 60 61 62 63 64 65 66 67 68 69 70 71 72 73 74 75 76 77 78 79 80 81 82 83 84 85 86 87 88 89 90 91 92 93 94 95 96 97 98 99 100 101 102 103 104 105 106 107 108 109 110 111 112 113 114 115 116 117 118 119 120 121 122 123 124 125 126 127 128 129 130 131 132 133 134 135 136 137 138 139 140 141 142 143 144 145 146 147 148 149 150 151 152 153 154 155 156 157 158 159 160 161 162 163 164 165 166 167 168 169 170 171 172 173 174 175 176 177 178 179 180 181 182 183 184 185 186 187 188 189 190 191 192 193 194 195 196 197 198 199 200 201 202 203 204 205 206 207 208 209 210 211 212 213 214 215 216 217 218 219 220 221 222 223 224 225 226 227 228 229 230 231 232 233 234 235 236 237 238 239 240 241 242 243 244 245 246 247 248 249 250 251 252 253 254 255 256 257 258 259 260 261 262 263 264 265 266 267 268 269 270 271 272 273 274 275 276 277 278 279 280 281 282 283 284 285 286 287 288 289 290 291 292 293 294 295 296 297 298 299 300 301 302 303 304 305 306 307 308 309 310 311 312 313 314 315 316 317 318 319 320 321 322 323 324 325 326 327 328 329 330 331 332 333 334 335 336 337 338 339 340 341 342 343 344 345 346 347 348 349 350 351 352 353 354 355 356 357 358 359 360 361 362 363 364 365 366 367 368 369 370 371 372 373 374 375 376 377 378 379 380 381 382 383 384 385 386 387 388 389 390 391 392 393 394 395 396 397 398 399 400 401 402 403 404 405 406 407 408 409 410 411 412 413 414 415 416 417 418 419 420 421 422 423 424 425 426 427 428 429 430 431 432 433 434 435 436 437 438 439 440 441 442 443 444 445 446 447 448 449 450 451 452 453 454 455 456 457 458 459 460 461 462 463 464 465 466 467 468 469 470 471 472 473 474 475 476 477 478 479 480 481 482 483 484 485 486 487 488 489 490 491 492 493 494 495 496 497 498 499 500 501 502 503 504 505 506 507 508 509 510 511 512 513 514 515 516 517 518 519 520 521 522 523 524 525 526 527 528 529 530 531 532 533 534 535 536 537 538 539 540 541 542 543 544 545 546 547 548 549 550 551 552 553 554 555 556 557 558 559 560 561 562 563 564 565 566 567 568 569 570 571 572 573 574 575 576 577 578 579 580 581 582 583 584 585 586 587 588 589 590 591 592 593 594 595 596 597 598 599 600 601 602 603 604 605 606 607 608 609 610 611 612 613 614 615 616 617 618 619 620 621 622 623 624 625 626 627 628 629 630 631 632 633 634 635 636 637 638 639 Your submission file has been saved. Once you `Commit` your Kernel and it finishes running, you can submit the file to the competition from the Kernel Viewer `Output` tab.\nPreparing Data: 17.64s\nMaking Predictions: 16.40s\nPacking: 8.92s\nTotal: 42.96s\n",
          "name": "stdout"
        }
      ]
    },
    {
      "metadata": {
        "trusted": true,
        "_uuid": "b773a7f735867c1e7e8bbab7424053a08561e070"
      },
      "cell_type": "code",
      "source": "",
      "execution_count": null,
      "outputs": []
    },
    {
      "metadata": {
        "trusted": true,
        "_uuid": "39ecddee623a2202926da93c30e73f8cc0e6af99"
      },
      "cell_type": "code",
      "source": "",
      "execution_count": null,
      "outputs": []
    }
  ],
  "metadata": {
    "kernelspec": {
      "display_name": "Python 3",
      "language": "python",
      "name": "python3"
    },
    "language_info": {
      "name": "python",
      "version": "3.6.6",
      "mimetype": "text/x-python",
      "codemirror_mode": {
        "name": "ipython",
        "version": 3
      },
      "pygments_lexer": "ipython3",
      "nbconvert_exporter": "python",
      "file_extension": ".py"
    },
    "toc": {
      "base_numbering": 1,
      "nav_menu": {},
      "number_sections": true,
      "sideBar": true,
      "skip_h1_title": false,
      "title_cell": "Table of Contents",
      "title_sidebar": "Contents",
      "toc_cell": false,
      "toc_position": {},
      "toc_section_display": true,
      "toc_window_display": false
    }
  },
  "nbformat": 4,
  "nbformat_minor": 1
}