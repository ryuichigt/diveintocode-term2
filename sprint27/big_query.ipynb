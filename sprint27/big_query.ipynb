{
  "cells": [
    {
      "metadata": {
        "_uuid": "2f818f3ec1648effe579af5dafa98584f23c40f5"
      },
      "cell_type": "markdown",
      "source": "# BigQueryを学ぶ"
    },
    {
      "metadata": {
        "trusted": true,
        "_uuid": "8469c2d06eeaf3ce77d79234840fc3866c034198"
      },
      "cell_type": "code",
      "source": "import numpy as np # linear algebra\nimport pandas as pd # data processing, CSV file I/O (e.g. pd.read_csv)\n\nimport os\nprint(os.listdir(\"../input\"))",
      "execution_count": 15,
      "outputs": [
        {
          "output_type": "stream",
          "text": "[]\n",
          "name": "stdout"
        }
      ]
    },
    {
      "metadata": {
        "trusted": true,
        "_uuid": "35558255b6b77973571aae1e55bf8e2ed6332dd8"
      },
      "cell_type": "code",
      "source": "from bq_helper import BigQueryHelper\n\nbq_assistant = BigQueryHelper(\"bigquery-public-data\", \"bitcoin_blockchain\")\nQUERY = \"SELECT * FROM `bigquery-public-data.bitcoin_blockchain.blocks`\"",
      "execution_count": 82,
      "outputs": []
    },
    {
      "metadata": {
        "trusted": true,
        "_uuid": "5507f3948bc6177ec5cb35bc2377555dc5f96481"
      },
      "cell_type": "code",
      "source": "df = bq_assistant.head(\"blocks\",num_rows=100)",
      "execution_count": 73,
      "outputs": []
    },
    {
      "metadata": {
        "trusted": true,
        "scrolled": true,
        "_uuid": "a69f1e23d0309f5bfa6d0035fb22e6a39754550d"
      },
      "cell_type": "code",
      "source": "bq_assistant.",
      "execution_count": 74,
      "outputs": [
        {
          "output_type": "execute_result",
          "execution_count": 74,
          "data": {
            "text/plain": "                                            block_id    ...     row_number\n0  0000000000000af5ee70ada24ec1c34c867ac73bcc7d9b...    ...              1\n1  0000000000000000000b1525c527236512af52a89a5fce...    ...              1\n2  000000000000000038b34e3c3ebcba81be381f314161fe...    ...              1\n3  00000000000003a7d5bbda9862fd58373bb547a160829e...    ...              1\n4  000000000000021010be0398a8eb409fcae63a306485ae...    ...              1\n\n[5 rows x 11 columns]",
            "text/html": "<div>\n<style scoped>\n    .dataframe tbody tr th:only-of-type {\n        vertical-align: middle;\n    }\n\n    .dataframe tbody tr th {\n        vertical-align: top;\n    }\n\n    .dataframe thead th {\n        text-align: right;\n    }\n</style>\n<table border=\"1\" class=\"dataframe\">\n  <thead>\n    <tr style=\"text-align: right;\">\n      <th></th>\n      <th>block_id</th>\n      <th>previous_block</th>\n      <th>merkle_root</th>\n      <th>timestamp</th>\n      <th>difficultyTarget</th>\n      <th>nonce</th>\n      <th>version</th>\n      <th>work_terahash</th>\n      <th>work_error</th>\n      <th>transactions</th>\n      <th>row_number</th>\n    </tr>\n  </thead>\n  <tbody>\n    <tr>\n      <th>0</th>\n      <td>0000000000000af5ee70ada24ec1c34c867ac73bcc7d9b...</td>\n      <td>0000000000001fffc5774fc8a02161ff1b20b73d79e59d...</td>\n      <td>f2886a527c015c67923262b3a550acd2cd45ef0b917d43...</td>\n      <td>1307330213000</td>\n      <td>438735905</td>\n      <td>3584907577</td>\n      <td>1</td>\n      <td>18678</td>\n      <td>None</td>\n      <td>[{'transaction_id': '09119c68cfc5c9d5926181ce5...</td>\n      <td>1</td>\n    </tr>\n    <tr>\n      <th>1</th>\n      <td>0000000000000000000b1525c527236512af52a89a5fce...</td>\n      <td>000000000000000000a01e0122b400234eb8e5cfdf2a35...</td>\n      <td>aad0ce06f914ba652480a6cd93937fb956dd978b41f66f...</td>\n      <td>1482015099000</td>\n      <td>402885509</td>\n      <td>1962274162</td>\n      <td>536870912</td>\n      <td>13321209935</td>\n      <td>None</td>\n      <td>[{'transaction_id': '38064838c2778a381bf9d95b0...</td>\n      <td>1</td>\n    </tr>\n    <tr>\n      <th>2</th>\n      <td>000000000000000038b34e3c3ebcba81be381f314161fe...</td>\n      <td>00000000000000000ceab750a0c3443479738b9b926ac8...</td>\n      <td>8a4655e47a5110b91aa5f7e9d20354c5e7ce7a99dbf1ac...</td>\n      <td>1407067666000</td>\n      <td>406498978</td>\n      <td>4226596330</td>\n      <td>2</td>\n      <td>804736316</td>\n      <td>None</td>\n      <td>[{'transaction_id': '86875d2d8c89449e2f7f65007...</td>\n      <td>1</td>\n    </tr>\n    <tr>\n      <th>3</th>\n      <td>00000000000003a7d5bbda9862fd58373bb547a160829e...</td>\n      <td>000000000000037e4a250ffb7900fb4bac68d5390db692...</td>\n      <td>7d05c93663d25800de976897b828b605e45acb67180892...</td>\n      <td>1352944336000</td>\n      <td>436533995</td>\n      <td>3238317857</td>\n      <td>2</td>\n      <td>144689</td>\n      <td>None</td>\n      <td>[{'transaction_id': '78b6f7e74d03b7b9da5ba3f5a...</td>\n      <td>1</td>\n    </tr>\n    <tr>\n      <th>4</th>\n      <td>000000000000021010be0398a8eb409fcae63a306485ae...</td>\n      <td>0000000000000a11127c06e40b008b4e9e2dc69b8335d4...</td>\n      <td>19812408076723b1b74138d84b0627ef09a1b9e3a7cc2f...</td>\n      <td>1333227325000</td>\n      <td>436883582</td>\n      <td>1031101468</td>\n      <td>1</td>\n      <td>69861</td>\n      <td>None</td>\n      <td>[{'transaction_id': '73822227ba5b23a8a9662fd06...</td>\n      <td>1</td>\n    </tr>\n  </tbody>\n</table>\n</div>"
          },
          "metadata": {}
        }
      ]
    },
    {
      "metadata": {
        "_uuid": "406cfe8928d8221182419c5e80a44a34fb93f934"
      },
      "cell_type": "markdown",
      "source": "テーブルを取得"
    },
    {
      "metadata": {
        "trusted": true,
        "_uuid": "1f27a21a755764a0442caadff09440f56b555938"
      },
      "cell_type": "code",
      "source": "%%time\nbq_assistant.list_tables()",
      "execution_count": 79,
      "outputs": [
        {
          "output_type": "stream",
          "text": "CPU times: user 8 ms, sys: 0 ns, total: 8 ms\nWall time: 175 ms\n",
          "name": "stdout"
        },
        {
          "output_type": "execute_result",
          "execution_count": 79,
          "data": {
            "text/plain": "['blocks', 'transactions']"
          },
          "metadata": {}
        }
      ]
    },
    {
      "metadata": {
        "_uuid": "c02741d454f77823abe5ab8f0d9a0dee692b01c3"
      },
      "cell_type": "markdown",
      "source": "blocksのカラム一覧を取得"
    },
    {
      "metadata": {
        "trusted": true,
        "_uuid": "db26857c3fb9e168413333ca45019b66cff97c3f"
      },
      "cell_type": "code",
      "source": "%%time\nbq_assistant.table_schema(\"blocks\")",
      "execution_count": 18,
      "outputs": [
        {
          "output_type": "stream",
          "text": "CPU times: user 40 ms, sys: 0 ns, total: 40 ms\nWall time: 223 ms\n",
          "name": "stdout"
        },
        {
          "output_type": "execute_result",
          "execution_count": 18,
          "data": {
            "text/plain": "                                               name     ...     description\n0                                          block_id     ...            None\n1                                    previous_block     ...            None\n2                                       merkle_root     ...            None\n3                                         timestamp     ...            None\n4                                  difficultyTarget     ...            None\n5                                             nonce     ...            None\n6                                           version     ...            None\n7                                     work_terahash     ...            None\n8                                        work_error     ...            None\n9                                      transactions     ...            None\n10                      transactions.transaction_id     ...            None\n11                              transactions.inputs     ...            None\n12           transactions.inputs.input_script_bytes     ...            None\n13          transactions.inputs.input_script_string     ...            None\n14    transactions.inputs.input_script_string_error     ...            None\n15        transactions.inputs.input_sequence_number     ...            None\n16          transactions.inputs.input_pubkey_base58     ...            None\n17    transactions.inputs.input_pubkey_base58_error     ...            None\n18                             transactions.outputs     ...            None\n19             transactions.outputs.output_satoshis     ...            None\n20         transactions.outputs.output_script_bytes     ...            None\n21        transactions.outputs.output_script_string     ...            None\n22  transactions.outputs.output_script_string_error     ...            None\n23        transactions.outputs.output_pubkey_base58     ...            None\n24  transactions.outputs.output_pubkey_base58_error     ...            None\n25                                       row_number     ...            None\n\n[26 rows x 4 columns]",
            "text/html": "<div>\n<style scoped>\n    .dataframe tbody tr th:only-of-type {\n        vertical-align: middle;\n    }\n\n    .dataframe tbody tr th {\n        vertical-align: top;\n    }\n\n    .dataframe thead th {\n        text-align: right;\n    }\n</style>\n<table border=\"1\" class=\"dataframe\">\n  <thead>\n    <tr style=\"text-align: right;\">\n      <th></th>\n      <th>name</th>\n      <th>type</th>\n      <th>mode</th>\n      <th>description</th>\n    </tr>\n  </thead>\n  <tbody>\n    <tr>\n      <th>0</th>\n      <td>block_id</td>\n      <td>STRING</td>\n      <td>NULLABLE</td>\n      <td>None</td>\n    </tr>\n    <tr>\n      <th>1</th>\n      <td>previous_block</td>\n      <td>STRING</td>\n      <td>NULLABLE</td>\n      <td>None</td>\n    </tr>\n    <tr>\n      <th>2</th>\n      <td>merkle_root</td>\n      <td>STRING</td>\n      <td>NULLABLE</td>\n      <td>None</td>\n    </tr>\n    <tr>\n      <th>3</th>\n      <td>timestamp</td>\n      <td>INTEGER</td>\n      <td>NULLABLE</td>\n      <td>None</td>\n    </tr>\n    <tr>\n      <th>4</th>\n      <td>difficultyTarget</td>\n      <td>INTEGER</td>\n      <td>NULLABLE</td>\n      <td>None</td>\n    </tr>\n    <tr>\n      <th>5</th>\n      <td>nonce</td>\n      <td>INTEGER</td>\n      <td>NULLABLE</td>\n      <td>None</td>\n    </tr>\n    <tr>\n      <th>6</th>\n      <td>version</td>\n      <td>INTEGER</td>\n      <td>NULLABLE</td>\n      <td>None</td>\n    </tr>\n    <tr>\n      <th>7</th>\n      <td>work_terahash</td>\n      <td>INTEGER</td>\n      <td>NULLABLE</td>\n      <td>None</td>\n    </tr>\n    <tr>\n      <th>8</th>\n      <td>work_error</td>\n      <td>STRING</td>\n      <td>NULLABLE</td>\n      <td>None</td>\n    </tr>\n    <tr>\n      <th>9</th>\n      <td>transactions</td>\n      <td>RECORD</td>\n      <td>REPEATED</td>\n      <td>None</td>\n    </tr>\n    <tr>\n      <th>10</th>\n      <td>transactions.transaction_id</td>\n      <td>STRING</td>\n      <td>NULLABLE</td>\n      <td>None</td>\n    </tr>\n    <tr>\n      <th>11</th>\n      <td>transactions.inputs</td>\n      <td>RECORD</td>\n      <td>REPEATED</td>\n      <td>None</td>\n    </tr>\n    <tr>\n      <th>12</th>\n      <td>transactions.inputs.input_script_bytes</td>\n      <td>BYTES</td>\n      <td>NULLABLE</td>\n      <td>None</td>\n    </tr>\n    <tr>\n      <th>13</th>\n      <td>transactions.inputs.input_script_string</td>\n      <td>STRING</td>\n      <td>NULLABLE</td>\n      <td>None</td>\n    </tr>\n    <tr>\n      <th>14</th>\n      <td>transactions.inputs.input_script_string_error</td>\n      <td>STRING</td>\n      <td>NULLABLE</td>\n      <td>None</td>\n    </tr>\n    <tr>\n      <th>15</th>\n      <td>transactions.inputs.input_sequence_number</td>\n      <td>INTEGER</td>\n      <td>NULLABLE</td>\n      <td>None</td>\n    </tr>\n    <tr>\n      <th>16</th>\n      <td>transactions.inputs.input_pubkey_base58</td>\n      <td>STRING</td>\n      <td>NULLABLE</td>\n      <td>None</td>\n    </tr>\n    <tr>\n      <th>17</th>\n      <td>transactions.inputs.input_pubkey_base58_error</td>\n      <td>STRING</td>\n      <td>NULLABLE</td>\n      <td>None</td>\n    </tr>\n    <tr>\n      <th>18</th>\n      <td>transactions.outputs</td>\n      <td>RECORD</td>\n      <td>REPEATED</td>\n      <td>None</td>\n    </tr>\n    <tr>\n      <th>19</th>\n      <td>transactions.outputs.output_satoshis</td>\n      <td>INTEGER</td>\n      <td>NULLABLE</td>\n      <td>None</td>\n    </tr>\n    <tr>\n      <th>20</th>\n      <td>transactions.outputs.output_script_bytes</td>\n      <td>BYTES</td>\n      <td>NULLABLE</td>\n      <td>None</td>\n    </tr>\n    <tr>\n      <th>21</th>\n      <td>transactions.outputs.output_script_string</td>\n      <td>STRING</td>\n      <td>NULLABLE</td>\n      <td>None</td>\n    </tr>\n    <tr>\n      <th>22</th>\n      <td>transactions.outputs.output_script_string_error</td>\n      <td>STRING</td>\n      <td>NULLABLE</td>\n      <td>None</td>\n    </tr>\n    <tr>\n      <th>23</th>\n      <td>transactions.outputs.output_pubkey_base58</td>\n      <td>STRING</td>\n      <td>NULLABLE</td>\n      <td>None</td>\n    </tr>\n    <tr>\n      <th>24</th>\n      <td>transactions.outputs.output_pubkey_base58_error</td>\n      <td>STRING</td>\n      <td>NULLABLE</td>\n      <td>None</td>\n    </tr>\n    <tr>\n      <th>25</th>\n      <td>row_number</td>\n      <td>INTEGER</td>\n      <td>NULLABLE</td>\n      <td>None</td>\n    </tr>\n  </tbody>\n</table>\n</div>"
          },
          "metadata": {}
        }
      ]
    },
    {
      "metadata": {
        "_uuid": "bd1e8b10d30aff1aa41985060aa7c768d2c1910a"
      },
      "cell_type": "markdown",
      "source": "transactionsのカラムを取得"
    },
    {
      "metadata": {
        "trusted": true,
        "_uuid": "f17889730d6bc48b20e6983f7e7e5c68b9528154"
      },
      "cell_type": "code",
      "source": "%%time\nbq_assistant.table_schema(\"transactions\")",
      "execution_count": 19,
      "outputs": [
        {
          "output_type": "stream",
          "text": "CPU times: user 32 ms, sys: 0 ns, total: 32 ms\nWall time: 170 ms\n",
          "name": "stdout"
        },
        {
          "output_type": "execute_result",
          "execution_count": 19,
          "data": {
            "text/plain": "                                  name     ...     description\n0                            timestamp     ...            None\n1                       transaction_id     ...            None\n2                               inputs     ...            None\n3            inputs.input_script_bytes     ...            None\n4           inputs.input_script_string     ...            None\n5     inputs.input_script_string_error     ...            None\n6         inputs.input_sequence_number     ...            None\n7           inputs.input_pubkey_base58     ...            None\n8     inputs.input_pubkey_base58_error     ...            None\n9                              outputs     ...            None\n10             outputs.output_satoshis     ...            None\n11         outputs.output_script_bytes     ...            None\n12        outputs.output_script_string     ...            None\n13  outputs.output_script_string_error     ...            None\n14        outputs.output_pubkey_base58     ...            None\n15  outputs.output_pubkey_base58_error     ...            None\n16                            block_id     ...            None\n17                      previous_block     ...            None\n18                         merkle_root     ...            None\n19                               nonce     ...            None\n20                             version     ...            None\n21                       work_terahash     ...            None\n22                          work_error     ...            None\n\n[23 rows x 4 columns]",
            "text/html": "<div>\n<style scoped>\n    .dataframe tbody tr th:only-of-type {\n        vertical-align: middle;\n    }\n\n    .dataframe tbody tr th {\n        vertical-align: top;\n    }\n\n    .dataframe thead th {\n        text-align: right;\n    }\n</style>\n<table border=\"1\" class=\"dataframe\">\n  <thead>\n    <tr style=\"text-align: right;\">\n      <th></th>\n      <th>name</th>\n      <th>type</th>\n      <th>mode</th>\n      <th>description</th>\n    </tr>\n  </thead>\n  <tbody>\n    <tr>\n      <th>0</th>\n      <td>timestamp</td>\n      <td>INTEGER</td>\n      <td>NULLABLE</td>\n      <td>None</td>\n    </tr>\n    <tr>\n      <th>1</th>\n      <td>transaction_id</td>\n      <td>STRING</td>\n      <td>NULLABLE</td>\n      <td>None</td>\n    </tr>\n    <tr>\n      <th>2</th>\n      <td>inputs</td>\n      <td>RECORD</td>\n      <td>REPEATED</td>\n      <td>None</td>\n    </tr>\n    <tr>\n      <th>3</th>\n      <td>inputs.input_script_bytes</td>\n      <td>BYTES</td>\n      <td>NULLABLE</td>\n      <td>None</td>\n    </tr>\n    <tr>\n      <th>4</th>\n      <td>inputs.input_script_string</td>\n      <td>STRING</td>\n      <td>NULLABLE</td>\n      <td>None</td>\n    </tr>\n    <tr>\n      <th>5</th>\n      <td>inputs.input_script_string_error</td>\n      <td>STRING</td>\n      <td>NULLABLE</td>\n      <td>None</td>\n    </tr>\n    <tr>\n      <th>6</th>\n      <td>inputs.input_sequence_number</td>\n      <td>INTEGER</td>\n      <td>NULLABLE</td>\n      <td>None</td>\n    </tr>\n    <tr>\n      <th>7</th>\n      <td>inputs.input_pubkey_base58</td>\n      <td>STRING</td>\n      <td>NULLABLE</td>\n      <td>None</td>\n    </tr>\n    <tr>\n      <th>8</th>\n      <td>inputs.input_pubkey_base58_error</td>\n      <td>STRING</td>\n      <td>NULLABLE</td>\n      <td>None</td>\n    </tr>\n    <tr>\n      <th>9</th>\n      <td>outputs</td>\n      <td>RECORD</td>\n      <td>REPEATED</td>\n      <td>None</td>\n    </tr>\n    <tr>\n      <th>10</th>\n      <td>outputs.output_satoshis</td>\n      <td>INTEGER</td>\n      <td>NULLABLE</td>\n      <td>None</td>\n    </tr>\n    <tr>\n      <th>11</th>\n      <td>outputs.output_script_bytes</td>\n      <td>BYTES</td>\n      <td>NULLABLE</td>\n      <td>None</td>\n    </tr>\n    <tr>\n      <th>12</th>\n      <td>outputs.output_script_string</td>\n      <td>STRING</td>\n      <td>NULLABLE</td>\n      <td>None</td>\n    </tr>\n    <tr>\n      <th>13</th>\n      <td>outputs.output_script_string_error</td>\n      <td>STRING</td>\n      <td>NULLABLE</td>\n      <td>None</td>\n    </tr>\n    <tr>\n      <th>14</th>\n      <td>outputs.output_pubkey_base58</td>\n      <td>STRING</td>\n      <td>NULLABLE</td>\n      <td>None</td>\n    </tr>\n    <tr>\n      <th>15</th>\n      <td>outputs.output_pubkey_base58_error</td>\n      <td>STRING</td>\n      <td>NULLABLE</td>\n      <td>None</td>\n    </tr>\n    <tr>\n      <th>16</th>\n      <td>block_id</td>\n      <td>STRING</td>\n      <td>NULLABLE</td>\n      <td>None</td>\n    </tr>\n    <tr>\n      <th>17</th>\n      <td>previous_block</td>\n      <td>STRING</td>\n      <td>NULLABLE</td>\n      <td>None</td>\n    </tr>\n    <tr>\n      <th>18</th>\n      <td>merkle_root</td>\n      <td>STRING</td>\n      <td>NULLABLE</td>\n      <td>None</td>\n    </tr>\n    <tr>\n      <th>19</th>\n      <td>nonce</td>\n      <td>INTEGER</td>\n      <td>NULLABLE</td>\n      <td>None</td>\n    </tr>\n    <tr>\n      <th>20</th>\n      <td>version</td>\n      <td>INTEGER</td>\n      <td>NULLABLE</td>\n      <td>None</td>\n    </tr>\n    <tr>\n      <th>21</th>\n      <td>work_terahash</td>\n      <td>INTEGER</td>\n      <td>NULLABLE</td>\n      <td>None</td>\n    </tr>\n    <tr>\n      <th>22</th>\n      <td>work_error</td>\n      <td>STRING</td>\n      <td>NULLABLE</td>\n      <td>None</td>\n    </tr>\n  </tbody>\n</table>\n</div>"
          },
          "metadata": {}
        }
      ]
    },
    {
      "metadata": {
        "trusted": true,
        "_uuid": "692851194c60a3c3d2a397aff8287e5ca8f4c330"
      },
      "cell_type": "code",
      "source": "QUERY = \"SELECT * FROM `bigquery-public-data.bitcoin_blockchain.transactions` LIMIT 10\"\ndf = bq_assistant.query_to_pandas(QUERY)",
      "execution_count": 167,
      "outputs": []
    },
    {
      "metadata": {
        "trusted": true,
        "_uuid": "129d7800f5ad86a738a128661bd7bb24722d85b0"
      },
      "cell_type": "code",
      "source": "df",
      "execution_count": 168,
      "outputs": [
        {
          "output_type": "execute_result",
          "execution_count": 168,
          "data": {
            "text/plain": "       timestamp    ...     work_error\n0  1373660094000    ...           None\n1  1413236055000    ...           None\n2  1407155728000    ...           None\n3  1365584430000    ...           None\n4  1459076640000    ...           None\n5  1408858216000    ...           None\n6  1343351178000    ...           None\n7  1430820198000    ...           None\n8  1442521811000    ...           None\n9  1439239359000    ...           None\n\n[10 rows x 11 columns]",
            "text/html": "<div>\n<style scoped>\n    .dataframe tbody tr th:only-of-type {\n        vertical-align: middle;\n    }\n\n    .dataframe tbody tr th {\n        vertical-align: top;\n    }\n\n    .dataframe thead th {\n        text-align: right;\n    }\n</style>\n<table border=\"1\" class=\"dataframe\">\n  <thead>\n    <tr style=\"text-align: right;\">\n      <th></th>\n      <th>timestamp</th>\n      <th>transaction_id</th>\n      <th>inputs</th>\n      <th>outputs</th>\n      <th>block_id</th>\n      <th>previous_block</th>\n      <th>merkle_root</th>\n      <th>nonce</th>\n      <th>version</th>\n      <th>work_terahash</th>\n      <th>work_error</th>\n    </tr>\n  </thead>\n  <tbody>\n    <tr>\n      <th>0</th>\n      <td>1373660094000</td>\n      <td>3fa43eed0b4d92652c916c7cc4a7eee85486d4b58aa2a5...</td>\n      <td>[{'input_script_bytes': b'H0E\\x02 \\x1dO\\xf0\\xa...</td>\n      <td>[{'output_satoshis': 34190000, 'output_script_...</td>\n      <td>00000000000000041a66e3c4847b495cd5ea7f73107504...</td>\n      <td>000000000000007dfc7749a8502412af88480d382443e2...</td>\n      <td>b1365e7401fac1be3c60ff12507f3deef20f6ef9b96b05...</td>\n      <td>4152738190</td>\n      <td>2</td>\n      <td>1123704</td>\n      <td>None</td>\n    </tr>\n    <tr>\n      <th>1</th>\n      <td>1413236055000</td>\n      <td>30e91a7e14ca7238313621bd93f5ceecf11942ae3f38ff...</td>\n      <td>[{'input_script_bytes': b'I0F\\x02!\\x00\\xe0\\x9c...</td>\n      <td>[{'output_satoshis': 726457000, 'output_script...</td>\n      <td>00000000000000001ad5f971472868eee7fae7a31a7412...</td>\n      <td>000000000000000011964d8493d56e67082587d19e1231...</td>\n      <td>60cffc5d1e5a2fee55dcdaa7c4c42630000116d175e5e2...</td>\n      <td>2082302581</td>\n      <td>2</td>\n      <td>1503368095</td>\n      <td>None</td>\n    </tr>\n    <tr>\n      <th>2</th>\n      <td>1407155728000</td>\n      <td>e6ed95f395762d8cbc982cea93febbd985c91223c0901f...</td>\n      <td>[{'input_script_bytes': b'H0E\\x02!\\x00\\x91a][L...</td>\n      <td>[{'output_satoshis': 12776441, 'output_script_...</td>\n      <td>0000000000000000252b5ffbe95c5924ba9c3291c65477...</td>\n      <td>00000000000000001d21464dd4eadf9b3a20b82c737b3c...</td>\n      <td>a7d7b58f5e3097920278e4deec262176e18c2800056a55...</td>\n      <td>107858511</td>\n      <td>2</td>\n      <td>804736316</td>\n      <td>None</td>\n    </tr>\n    <tr>\n      <th>3</th>\n      <td>1365584430000</td>\n      <td>3fac4874a01d040a5be18f9503c3fdc3e58d0ba0d5d1ee...</td>\n      <td>[{'input_script_bytes': b'G0D\\x02 H\"W5\\xa6\\x92...</td>\n      <td>[{'output_satoshis': 337855333, 'output_script...</td>\n      <td>00000000000001808afd19301d6e6a42ec0a17fb9edb60...</td>\n      <td>0000000000000082a1210dced8f8bbd13fde0ca8781b9d...</td>\n      <td>11dac12fda1fe487a195088526347f558318c076253a26...</td>\n      <td>2495270816</td>\n      <td>2</td>\n      <td>329557</td>\n      <td>None</td>\n    </tr>\n    <tr>\n      <th>4</th>\n      <td>1459076640000</td>\n      <td>376c6f3455c708109559e06be06d7fb94a38e4f8a63a23...</td>\n      <td>[{'input_script_bytes': b'\\x00G0D\\x02 \\x12S\\xf...</td>\n      <td>[{'output_satoshis': 1042101, 'output_script_b...</td>\n      <td>00000000000000000620f0568e690305c791647006eb4e...</td>\n      <td>000000000000000000450eecdc5e5f64aaeb4a73d72028...</td>\n      <td>dbe910ff7872e96ccd3280e708402be8c57b82b7236a94...</td>\n      <td>3306265622</td>\n      <td>4</td>\n      <td>7108143405</td>\n      <td>None</td>\n    </tr>\n    <tr>\n      <th>5</th>\n      <td>1408858216000</td>\n      <td>978f907a9735d97d7d5dcbbc9ce83bc632e8a7ec7e04b5...</td>\n      <td>[{'input_script_bytes': b'G0D\\x02 \\x1d\\xdb\"\\x9...</td>\n      <td>[{'output_satoshis': 5899550, 'output_script_b...</td>\n      <td>0000000000000000255509f0b902c67c1c92867d6e32cf...</td>\n      <td>00000000000000000779b66b1a9bca420f29c59dca8aca...</td>\n      <td>458c329217e68e0572cef377a0866ef470bce90fac641c...</td>\n      <td>2178532378</td>\n      <td>2</td>\n      <td>1024136407</td>\n      <td>None</td>\n    </tr>\n    <tr>\n      <th>6</th>\n      <td>1343351178000</td>\n      <td>08f466620d06190ddbd808c71a4cb7d42e1606c11df572...</td>\n      <td>[{'input_script_bytes': b'I0F\\x02!\\x00\\xe6\\t@\\...</td>\n      <td>[{'output_satoshis': 3962696, 'output_script_b...</td>\n      <td>00000000000001a511182bf031724a2cf3d24907aece29...</td>\n      <td>00000000000001f69fb55c8e1ee81708ab0c4d392b6b7a...</td>\n      <td>55309d653a691e82b5302d2b0392b151c9eabd4e906c83...</td>\n      <td>639951838</td>\n      <td>1</td>\n      <td>80162</td>\n      <td>None</td>\n    </tr>\n    <tr>\n      <th>7</th>\n      <td>1430820198000</td>\n      <td>fd4b1a3d0c48d9394b336b37fa3126a1ce82569f3b9dd4...</td>\n      <td>[{'input_script_bytes': b'H0E\\x02!\\x00\\xb00\\xe...</td>\n      <td>[{'output_satoshis': 200000, 'output_script_by...</td>\n      <td>00000000000000000e55d2b84f06836a0a132663ab6af1...</td>\n      <td>000000000000000008641293a1de7cbde40b24fc29b5cb...</td>\n      <td>c1fbdf8ad79f4c22501e0bd2458c1880e667c7321d4839...</td>\n      <td>2589450720</td>\n      <td>2</td>\n      <td>2046299587</td>\n      <td>None</td>\n    </tr>\n    <tr>\n      <th>8</th>\n      <td>1442521811000</td>\n      <td>c63853fb7f03fd9638e1c56bb82feb85dd5ca46517d511...</td>\n      <td>[{'input_script_bytes': b'H0E\\x02!\\x00\\xab\\x03...</td>\n      <td>[{'output_satoshis': 21452782, 'output_script_...</td>\n      <td>00000000000000000fa13ca8747dfb4cb1f6959ac30ba4...</td>\n      <td>000000000000000008aec102f67979e6c7e14b9690fc85...</td>\n      <td>8999961445a0dcb9a34bd0330a2f7f7232798998cc1ab0...</td>\n      <td>1757085618</td>\n      <td>3</td>\n      <td>2548472817</td>\n      <td>None</td>\n    </tr>\n    <tr>\n      <th>9</th>\n      <td>1439239359000</td>\n      <td>491eb0ccab73a2b4f51e392c31c5ae1c55b5dd10413401...</td>\n      <td>[{'input_script_bytes': b'G0D\\x02 2\\xe9\\xa7\\xd...</td>\n      <td>[{'output_satoshis': 52397171, 'output_script_...</td>\n      <td>00000000000000000ff6cbd5117be60ddb6fe207a29fce...</td>\n      <td>00000000000000000049aabe8c436e6b31883a7ec07912...</td>\n      <td>4d3005aa510e875a1ff56587bf609368ff9dc577c5422d...</td>\n      <td>2173297297</td>\n      <td>3</td>\n      <td>2263475534</td>\n      <td>None</td>\n    </tr>\n  </tbody>\n</table>\n</div>"
          },
          "metadata": {}
        }
      ]
    },
    {
      "metadata": {
        "trusted": true,
        "_uuid": "62cfa1c2dfd98a94449401150fdeeecc3e737ef2"
      },
      "cell_type": "code",
      "source": "df.outputs",
      "execution_count": 169,
      "outputs": [
        {
          "output_type": "execute_result",
          "execution_count": 169,
          "data": {
            "text/plain": "0    [{'output_satoshis': 34190000, 'output_script_...\n1    [{'output_satoshis': 726457000, 'output_script...\n2    [{'output_satoshis': 12776441, 'output_script_...\n3    [{'output_satoshis': 337855333, 'output_script...\n4    [{'output_satoshis': 1042101, 'output_script_b...\n5    [{'output_satoshis': 5899550, 'output_script_b...\n6    [{'output_satoshis': 3962696, 'output_script_b...\n7    [{'output_satoshis': 200000, 'output_script_by...\n8    [{'output_satoshis': 21452782, 'output_script_...\n9    [{'output_satoshis': 52397171, 'output_script_...\nName: outputs, dtype: object"
          },
          "metadata": {}
        }
      ]
    },
    {
      "metadata": {
        "_uuid": "f9a79ebb6c272b1cd7acf8014ead722afc26dc15"
      },
      "cell_type": "markdown",
      "source": "送金額が一番高いユーザーを探す"
    },
    {
      "metadata": {
        "trusted": true,
        "_uuid": "74ec84588843d0b7439e623dc6ee8cc1a48f964e"
      },
      "cell_type": "code",
      "source": "q = \"\"\"\nselect\n    output.output_pubkey_base58 as reciver\n    , sum(output.output_satoshis) as satoshi\nfrom\n    `bigquery-public-data.bitcoin_blockchain.transactions`\n    JOIN UNNEST (outputs) AS output\ngroup by reciver\n\"\"\"\nbq_assistant.estimate_query_size(q)\n\nq = \"\"\"\nSELECT\n    o.output_pubkey_base58,\n    sum(o.output_satoshis) as output_sum \nfrom \n    `bigquery-public-data.bitcoin_blockchain.transactions`JOIN\n    UNNEST(outputs) as o \n    where o.output_pubkey_base58 not in (select i.input_pubkey_base58\n    from UNNEST(inputs) as i)\n    group by o.output_pubkey_base58 order by output_sum desc limit 1000\n\"\"\"\nprint (str(round((bq_assistant.estimate_query_size(q)),2))+str(\" GB\"))\n",
      "execution_count": 160,
      "outputs": [
        {
          "output_type": "stream",
          "text": "62.03 GB\n",
          "name": "stdout"
        }
      ]
    },
    {
      "metadata": {
        "trusted": true,
        "_uuid": "9047d37ffeef688cef7888a5156173ffd5cca755"
      },
      "cell_type": "code",
      "source": "tran_data=bq_assistant.query_to_pandas(q)",
      "execution_count": 192,
      "outputs": []
    },
    {
      "metadata": {
        "trusted": true,
        "_uuid": "ecf789e283d5d83944903de9d3177baa28a16994"
      },
      "cell_type": "code",
      "source": "tran_data.head()",
      "execution_count": 193,
      "outputs": [
        {
          "output_type": "execute_result",
          "execution_count": 193,
          "data": {
            "text/plain": "                 output_pubkey_base58       output_sum\n0  1LNWw6yCxkUmkhArb2Nf2MPw6vG7u5WG7q  570640680858117\n1  12cgpFdJViXbwHbhrA3TuW1EGnL25Zqc3P  444380792865258\n2  3KgtbGgaX2ngstNpvyv7LwpHSweVeqGbpM  411801053119073\n3  1NDyJtNTjmwk5xPNhjgAMu4HDHigtobu1s  323293346893794\n4  13p5iQkqBEVgKmPeJqEL2LBRS44PjX1dZL  316971752467666",
            "text/html": "<div>\n<style scoped>\n    .dataframe tbody tr th:only-of-type {\n        vertical-align: middle;\n    }\n\n    .dataframe tbody tr th {\n        vertical-align: top;\n    }\n\n    .dataframe thead th {\n        text-align: right;\n    }\n</style>\n<table border=\"1\" class=\"dataframe\">\n  <thead>\n    <tr style=\"text-align: right;\">\n      <th></th>\n      <th>output_pubkey_base58</th>\n      <th>output_sum</th>\n    </tr>\n  </thead>\n  <tbody>\n    <tr>\n      <th>0</th>\n      <td>1LNWw6yCxkUmkhArb2Nf2MPw6vG7u5WG7q</td>\n      <td>570640680858117</td>\n    </tr>\n    <tr>\n      <th>1</th>\n      <td>12cgpFdJViXbwHbhrA3TuW1EGnL25Zqc3P</td>\n      <td>444380792865258</td>\n    </tr>\n    <tr>\n      <th>2</th>\n      <td>3KgtbGgaX2ngstNpvyv7LwpHSweVeqGbpM</td>\n      <td>411801053119073</td>\n    </tr>\n    <tr>\n      <th>3</th>\n      <td>1NDyJtNTjmwk5xPNhjgAMu4HDHigtobu1s</td>\n      <td>323293346893794</td>\n    </tr>\n    <tr>\n      <th>4</th>\n      <td>13p5iQkqBEVgKmPeJqEL2LBRS44PjX1dZL</td>\n      <td>316971752467666</td>\n    </tr>\n  </tbody>\n</table>\n</div>"
          },
          "metadata": {}
        }
      ]
    },
    {
      "metadata": {
        "trusted": true,
        "_uuid": "efdca2d79dd15e17d3f466013ee9235df46ef440"
      },
      "cell_type": "code",
      "source": "",
      "execution_count": null,
      "outputs": []
    },
    {
      "metadata": {
        "trusted": true,
        "_uuid": "49f33eb6ce3ccd02133dac02e826d944ffd8c1fb"
      },
      "cell_type": "code",
      "source": "tran_data[\"now_bit\"] = round(tran_data[\"output_sum\"] * 0.00000001)",
      "execution_count": 194,
      "outputs": []
    },
    {
      "metadata": {
        "trusted": true,
        "_uuid": "5523cb8723dad2253c6d7ee3f7ec175f1f2777d2"
      },
      "cell_type": "code",
      "source": "tran_data[\"now_money\"]  = tran_data[\"now_bit\"] * 600000 ",
      "execution_count": 200,
      "outputs": []
    },
    {
      "metadata": {
        "trusted": true,
        "_uuid": "e896429fb346865b777373e8dc3d0b53de8920d1"
      },
      "cell_type": "code",
      "source": "tran_data.now_money[0]",
      "execution_count": 201,
      "outputs": [
        {
          "output_type": "execute_result",
          "execution_count": 201,
          "data": {
            "text/plain": "3423844200000.0"
          },
          "metadata": {}
        }
      ]
    },
    {
      "metadata": {
        "trusted": true,
        "_uuid": "a6d16a949a1325954401a063d21d909f085e5371"
      },
      "cell_type": "code",
      "source": "tran_data.now_bit",
      "execution_count": 202,
      "outputs": [
        {
          "output_type": "execute_result",
          "execution_count": 202,
          "data": {
            "text/plain": "0      5706407.0\n1      4443808.0\n2      4118011.0\n3      3232933.0\n4      3169718.0\n5      2985433.0\n6      2443411.0\n7      2131017.0\n8      2111772.0\n9      2032974.0\n10     1946266.0\n11     1921923.0\n12     1920989.0\n13     1899811.0\n14     1870447.0\n15     1837108.0\n16     1812586.0\n17     1809059.0\n18     1790014.0\n19     1669261.0\n20     1653099.0\n21     1525838.0\n22     1297715.0\n23     1027463.0\n24     1025064.0\n25     1020227.0\n26      989756.0\n27      938648.0\n28      934959.0\n29      863023.0\n         ...    \n970      61742.0\n971      61707.0\n972      61626.0\n973      61598.0\n974      61517.0\n975      61469.0\n976      61389.0\n977      61384.0\n978      61236.0\n979      61107.0\n980      61107.0\n981      61027.0\n982      61008.0\n983      61000.0\n984      61000.0\n985      60897.0\n986      60863.0\n987      60816.0\n988      60710.0\n989      60665.0\n990      60643.0\n991      60529.0\n992      60449.0\n993      60424.0\n994      60377.0\n995      60369.0\n996      60253.0\n997      60123.0\n998      60120.0\n999      60090.0\nName: now_bit, Length: 1000, dtype: float64"
          },
          "metadata": {}
        }
      ]
    },
    {
      "metadata": {
        "_uuid": "831321e020f46afacbab7c554b01b8abd6ce1b93"
      },
      "cell_type": "markdown",
      "source": "total６兆円ほどの額が動いてる計算になります。よくわかりません。"
    },
    {
      "metadata": {
        "trusted": true,
        "_uuid": "5e2c1e105316f28a2a7295f4f0c0bc9b51d476cf"
      },
      "cell_type": "code",
      "source": "",
      "execution_count": null,
      "outputs": []
    }
  ],
  "metadata": {
    "kernelspec": {
      "display_name": "Python 3",
      "language": "python",
      "name": "python3"
    },
    "language_info": {
      "name": "python",
      "version": "3.6.6",
      "mimetype": "text/x-python",
      "codemirror_mode": {
        "name": "ipython",
        "version": 3
      },
      "pygments_lexer": "ipython3",
      "nbconvert_exporter": "python",
      "file_extension": ".py"
    }
  },
  "nbformat": 4,
  "nbformat_minor": 1
}